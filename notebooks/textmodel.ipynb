{
 "cells": [
  {
   "cell_type": "markdown",
   "id": "joint-military",
   "metadata": {},
   "source": [
    "# Developing the Text Generation Model"
   ]
  },
  {
   "cell_type": "markdown",
   "id": "transsexual-credit",
   "metadata": {},
   "source": [
    "First of all, the text generation that I will be using requires a prompt. For that I'll take the first 10 words of the 27k+ rows of data I have, and use those for the prompts. I'm okay with 10 characters being \"predetermined\". "
   ]
  },
  {
   "cell_type": "code",
   "execution_count": 1,
   "id": "ideal-reducing",
   "metadata": {},
   "outputs": [],
   "source": [
    "import random\n",
    "random.seed(42)\n",
    "from typing import Tuple\n",
    "\n",
    "import pandas as pd\n",
    "import torch\n",
    "from transformers import GPT2LMHeadModel, GPT2TokenizerFast\n",
    "from sklearn.model_selection import train_test_split"
   ]
  },
  {
   "cell_type": "code",
   "execution_count": 2,
   "id": "affiliated-listing",
   "metadata": {},
   "outputs": [],
   "source": [
    "NAME_TOKEN = \"<|name|>\"\n",
    "DEV_TOKEN = \"<|developer|>\"\n",
    "PUB_TOKEN = \"<|publisher|>\"\n",
    "DESC_TOKEN = \"<|description|>\"\n",
    "GENRES_TOKEN = \"<|genres|>\"\n",
    "GAME_TOKEN = \"<|game|>\"\n",
    "END_TOKEN = \"<|endoftext|>\""
   ]
  },
  {
   "cell_type": "code",
   "execution_count": 3,
   "id": "understanding-ground",
   "metadata": {},
   "outputs": [],
   "source": [
    "PROMPT_TOKENS = [NAME_TOKEN, DEV_TOKEN, PUB_TOKEN, DESC_TOKEN, GENRES_TOKEN]"
   ]
  },
  {
   "cell_type": "code",
   "execution_count": 4,
   "id": "editorial-jordan",
   "metadata": {},
   "outputs": [
    {
     "data": {
      "text/plain": [
       "True"
      ]
     },
     "execution_count": 4,
     "metadata": {},
     "output_type": "execute_result"
    }
   ],
   "source": [
    "torch.cuda.is_available()"
   ]
  },
  {
   "cell_type": "code",
   "execution_count": 5,
   "id": "increased-nicholas",
   "metadata": {},
   "outputs": [],
   "source": [
    "df = pd.read_csv(\"../data/datasetv2.csv\").dropna()"
   ]
  },
  {
   "cell_type": "code",
   "execution_count": 6,
   "id": "hidden-burst",
   "metadata": {},
   "outputs": [
    {
     "data": {
      "text/html": [
       "<div>\n",
       "<style scoped>\n",
       "    .dataframe tbody tr th:only-of-type {\n",
       "        vertical-align: middle;\n",
       "    }\n",
       "\n",
       "    .dataframe tbody tr th {\n",
       "        vertical-align: top;\n",
       "    }\n",
       "\n",
       "    .dataframe thead th {\n",
       "        text-align: right;\n",
       "    }\n",
       "</style>\n",
       "<table border=\"1\" class=\"dataframe\">\n",
       "  <thead>\n",
       "    <tr style=\"text-align: right;\">\n",
       "      <th></th>\n",
       "      <th>appid</th>\n",
       "      <th>name</th>\n",
       "      <th>developer</th>\n",
       "      <th>publisher</th>\n",
       "      <th>genres</th>\n",
       "      <th>description</th>\n",
       "      <th>header_image</th>\n",
       "    </tr>\n",
       "  </thead>\n",
       "  <tbody>\n",
       "    <tr>\n",
       "      <th>0</th>\n",
       "      <td>10</td>\n",
       "      <td>Counter-Strike</td>\n",
       "      <td>Valve</td>\n",
       "      <td>Valve</td>\n",
       "      <td>Action</td>\n",
       "      <td>Play the world's number 1 online action game. ...</td>\n",
       "      <td>https://steamcdn-a.akamaihd.net/steam/apps/10/...</td>\n",
       "    </tr>\n",
       "    <tr>\n",
       "      <th>1</th>\n",
       "      <td>20</td>\n",
       "      <td>Team Fortress Classic</td>\n",
       "      <td>Valve</td>\n",
       "      <td>Valve</td>\n",
       "      <td>Action</td>\n",
       "      <td>One of the most popular online action games of...</td>\n",
       "      <td>https://steamcdn-a.akamaihd.net/steam/apps/20/...</td>\n",
       "    </tr>\n",
       "    <tr>\n",
       "      <th>2</th>\n",
       "      <td>30</td>\n",
       "      <td>Day of Defeat</td>\n",
       "      <td>Valve</td>\n",
       "      <td>Valve</td>\n",
       "      <td>Action</td>\n",
       "      <td>Enlist in an intense brand of Axis vs. Allied ...</td>\n",
       "      <td>https://steamcdn-a.akamaihd.net/steam/apps/30/...</td>\n",
       "    </tr>\n",
       "    <tr>\n",
       "      <th>3</th>\n",
       "      <td>40</td>\n",
       "      <td>Deathmatch Classic</td>\n",
       "      <td>Valve</td>\n",
       "      <td>Valve</td>\n",
       "      <td>Action</td>\n",
       "      <td>Enjoy fast-paced multiplayer gaming with Death...</td>\n",
       "      <td>https://steamcdn-a.akamaihd.net/steam/apps/40/...</td>\n",
       "    </tr>\n",
       "    <tr>\n",
       "      <th>4</th>\n",
       "      <td>50</td>\n",
       "      <td>Half-Life: Opposing Force</td>\n",
       "      <td>Gearbox Software</td>\n",
       "      <td>Valve</td>\n",
       "      <td>Action</td>\n",
       "      <td>Return to the Black Mesa Research Facility as ...</td>\n",
       "      <td>https://steamcdn-a.akamaihd.net/steam/apps/50/...</td>\n",
       "    </tr>\n",
       "  </tbody>\n",
       "</table>\n",
       "</div>"
      ],
      "text/plain": [
       "   appid                       name         developer publisher  genres  \\\n",
       "0     10             Counter-Strike             Valve     Valve  Action   \n",
       "1     20      Team Fortress Classic             Valve     Valve  Action   \n",
       "2     30              Day of Defeat             Valve     Valve  Action   \n",
       "3     40         Deathmatch Classic             Valve     Valve  Action   \n",
       "4     50  Half-Life: Opposing Force  Gearbox Software     Valve  Action   \n",
       "\n",
       "                                         description  \\\n",
       "0  Play the world's number 1 online action game. ...   \n",
       "1  One of the most popular online action games of...   \n",
       "2  Enlist in an intense brand of Axis vs. Allied ...   \n",
       "3  Enjoy fast-paced multiplayer gaming with Death...   \n",
       "4  Return to the Black Mesa Research Facility as ...   \n",
       "\n",
       "                                        header_image  \n",
       "0  https://steamcdn-a.akamaihd.net/steam/apps/10/...  \n",
       "1  https://steamcdn-a.akamaihd.net/steam/apps/20/...  \n",
       "2  https://steamcdn-a.akamaihd.net/steam/apps/30/...  \n",
       "3  https://steamcdn-a.akamaihd.net/steam/apps/40/...  \n",
       "4  https://steamcdn-a.akamaihd.net/steam/apps/50/...  "
      ]
     },
     "execution_count": 6,
     "metadata": {},
     "output_type": "execute_result"
    }
   ],
   "source": [
    "df.head()"
   ]
  },
  {
   "cell_type": "code",
   "execution_count": 7,
   "id": "threaded-visibility",
   "metadata": {},
   "outputs": [],
   "source": [
    "def load_tokenizer_and_model(model_path: str) -> Tuple[GPT2TokenizerFast, GPT2LMHeadModel]:\n",
    "    tokenizer = GPT2TokenizerFast.from_pretrained(\"../data/models/gpt2-all-15000/\")\n",
    "    model = GPT2LMHeadModel.from_pretrained(\"../data/models/gpt2-all-15000/\", pad_token_id=tokenizer.eos_token_id)\n",
    "    return tokenizer, model"
   ]
  },
  {
   "cell_type": "code",
   "execution_count": 43,
   "id": "possible-equity",
   "metadata": {},
   "outputs": [],
   "source": [
    "DEFAULT_LENGTHS = {\n",
    "    NAME_TOKEN: (1, 10),\n",
    "    DEV_TOKEN: (1, 10),\n",
    "    PUB_TOKEN: (1, 10),\n",
    "    DESC_TOKEN: (200, 400),\n",
    "    GENRES_TOKEN: (1, 20)\n",
    "}\n",
    "\n",
    "def generate_text(tokenizer: GPT2TokenizerFast, model: GPT2LMHeadModel, start_token: str, prompt=None, **gen_kwargs) -> str:\n",
    "    \"\"\"Generate a single output of text. A different function would be needed to batch generation.\"\"\"\n",
    "    \n",
    "    if prompt is None:\n",
    "        prompt_encoded = tokenizer.encode(start_token, return_tensors=\"pt\").to(model.device)\n",
    "    else:\n",
    "        prompt_encoded = tokenizer.encode(start_token + prompt, return_tensors=\"pt\").to(model.device)\n",
    "        \n",
    "    default_length = DEFAULT_LENGTHS.get(start_token, None)\n",
    "    if default_length is not None:\n",
    "        gen_kwargs[\"min_length\"] = default_length[0] + len(prompt_encoded[0])\n",
    "        gen_kwargs[\"max_length\"] = default_length[1] + len(prompt_encoded[0])\n",
    "\n",
    "    output = model.generate(\n",
    "        prompt_encoded,\n",
    "        do_sample=True, \n",
    "        top_k=50, \n",
    "        top_p=0.95,\n",
    "        no_repeat_ngram_size=5,\n",
    "        **gen_kwargs\n",
    "    )\n",
    "    output_decoded = tokenizer.decode(output[0])\n",
    "\n",
    "\n",
    "    return output_decoded"
   ]
  },
  {
   "cell_type": "markdown",
   "id": "inner-camel",
   "metadata": {},
   "source": [
    "# Loading and Testing the Model\n",
    "\n",
    "Hugging Face Transformers makes it really easy to load pretrained models."
   ]
  },
  {
   "cell_type": "code",
   "execution_count": 7,
   "id": "acute-documentary",
   "metadata": {},
   "outputs": [],
   "source": [
    "tokenizer = GPT2TokenizerFast.from_pretrained(\"gpt2\")\n",
    "model = GPT2LMHeadModel.from_pretrained(\"gpt2\", pad_token_id=tokenizer.eos_token_id).to(\"cuda\")"
   ]
  },
  {
   "cell_type": "code",
   "execution_count": 8,
   "id": "independent-canal",
   "metadata": {},
   "outputs": [],
   "source": [
    "prompts = df.description.apply(lambda x: \" \".join(x.split()[:10]))"
   ]
  },
  {
   "cell_type": "code",
   "execution_count": 9,
   "id": "green-overview",
   "metadata": {
    "scrolled": true
   },
   "outputs": [
    {
     "name": "stdout",
     "output_type": "stream",
     "text": [
      "《AngelShooter》 is a high difficulty bitmap horizontal-scroll shooting game. There\n",
      "《AngelShooter》 is a high difficulty bitmap horizontal-scroll shooting game. There are 3 levels, Each level has three enemy types. The first game is the easy, middle and difficult levels. This game involves some unique mechanics which are difficult as to not kill the enemy. The easiest level is the \"Challenging\" level which consists of only three enemies (each with four HP) and one monster. The hardest level has more than just enemies, it's also about the death or death of a person.\n",
      "\n",
      "The first enemy you encounter is Angel Shooter's son. He is a small boy with a purple mustache and an arrow protruding from his mouth. The only possible way to defeat him is to make use of a fire attack and shoot the monster in front of Angel Shooter's face. The second game has Angel Shooter's daughter, who has a purple smile on her face. The last game has Angel Shilla, a red haired girl with a blue hair. The third game has Angel Shika, a blue haired girl with green hair. The final game has Angel Shuru, a blue hairdresser with orange hair and green eyes.\n",
      "\n",
      "The following is the list of levels available in the game:\n",
      "\n",
      "Normal: 10 Enemies are included in the level.\n",
      "\n",
      "Expert: 10 Enemies are listed.\n",
      "\n",
      "Super: 10 Enemies are counted against the score.\n",
      "\n",
      "Exclusive: 10 enemies are included in the score.\n",
      " (Only available in one playthrough)\n",
      "\n",
      "Level 1\n",
      "\n",
      "Challenging: 6 - 9 Enemies are included in this level.\n",
      "\n",
      "Super Expert: 9 - 7 Enemies are included in each level, including the 1.2 level of each character.\n",
      "\n",
      "Examining All Enemies: 8 Enemies are counted against.<|endoftext|>\n"
     ]
    }
   ],
   "source": [
    "prompt = random.choice(prompts)\n",
    "prompt_encoded = tokenizer.encode(prompt, return_tensors=\"pt\").to(\"cuda\")\n",
    "\n",
    "output = model.generate(\n",
    "    prompt_encoded,\n",
    "    do_sample=True, \n",
    "    max_length=500, \n",
    "    top_k=50, \n",
    "    top_p=0.95,\n",
    "    no_repeat_ngram_size=5,\n",
    ")\n",
    "output_decoded = tokenizer.decode(output[0])\n",
    "\n",
    "\n",
    "print(prompt)\n",
    "print(output_decoded)"
   ]
  },
  {
   "cell_type": "code",
   "execution_count": 10,
   "id": "worldwide-archive",
   "metadata": {},
   "outputs": [],
   "source": [
    "del tokenizer\n",
    "del model"
   ]
  },
  {
   "cell_type": "markdown",
   "id": "civil-launch",
   "metadata": {},
   "source": [
    "# Fine-Tuning the Model to Generate Video Game Titles (Names)\n",
    "\n",
    "The output already looks fantastic, but let's fine-tune the model to get even better results.\n",
    "\n",
    "I'm going to work on the video game name generation first as a POC. We can use a special token, for example `<|name|>` as a prompt instead of needing words to prompt the title generation.\n",
    " \n",
    "See: https://towardsdatascience.com/natural-language-generation-part-2-gpt-2-and-huggingface-f3acb35bc86a\n",
    "\n",
    "So all we really need to do is format our data in with the prompt token (for this task, `<|name|>`) and the end of text token, which is built into the pretrained tokenizer: `<|endoftext|>` and fine-tune the pretrained model."
   ]
  },
  {
   "cell_type": "code",
   "execution_count": 11,
   "id": "filled-index",
   "metadata": {},
   "outputs": [
    {
     "name": "stdout",
     "output_type": "stream",
     "text": [
      "<|name|>Counter-Strike<|endoftext|>\n"
     ]
    }
   ],
   "source": [
    "# Example formatted name\n",
    "name = df.name[0]\n",
    "formatted_name = f\"{NAME_TOKEN}{name}{END_TOKEN}\"\n",
    "print(formatted_name)"
   ]
  },
  {
   "cell_type": "code",
   "execution_count": 12,
   "id": "signal-thesis",
   "metadata": {},
   "outputs": [],
   "source": [
    "def save_formatted(file, list_of_texts, start_token, end_token):\n",
    "    for text in list_of_texts:\n",
    "        formatted_text = f\"{start_token}{text}{end_token}\"\n",
    "        file.write(formatted_text)"
   ]
  },
  {
   "cell_type": "code",
   "execution_count": 13,
   "id": "pacific-blowing",
   "metadata": {},
   "outputs": [
    {
     "name": "stdout",
     "output_type": "stream",
     "text": [
      "train count: 22990\n",
      "validation count: 4058\n"
     ]
    }
   ],
   "source": [
    "# Split our data into train and validation\n",
    "train, validation = train_test_split(df.name, train_size=0.85, random_state=42)\n",
    "\n",
    "print(\"train count:\", train.count())\n",
    "print(\"validation count:\", validation.count())"
   ]
  },
  {
   "cell_type": "code",
   "execution_count": 14,
   "id": "positive-triumph",
   "metadata": {},
   "outputs": [],
   "source": [
    "# with open(\"../data/training/name_train.txt\", \"w\") as f:\n",
    "#     save_formatted(f, train, NAME_TOKEN, END_TOKEN)"
   ]
  },
  {
   "cell_type": "code",
   "execution_count": 15,
   "id": "separate-communist",
   "metadata": {},
   "outputs": [],
   "source": [
    "# with open(\"../data/training/name_val.txt\", \"w\") as f:\n",
    "#     save_formatted(f, validation, NAME_TOKEN, END_TOKEN)"
   ]
  },
  {
   "cell_type": "markdown",
   "id": "changed-lingerie",
   "metadata": {},
   "source": [
    "# Testing the Fine-tuned Name Model\n",
    "\n",
    "I used a GPU cloud provider to fine-tune the pretrained GPT2-medium model using the `scripts/train-name.sh` script."
   ]
  },
  {
   "cell_type": "code",
   "execution_count": 16,
   "id": "suited-surname",
   "metadata": {},
   "outputs": [],
   "source": [
    "tokenizer = GPT2TokenizerFast.from_pretrained(\"../data/models/gpt2-name\")\n",
    "model = GPT2LMHeadModel.from_pretrained(\"../data/models/gpt2-name\", pad_token_id=tokenizer.eos_token_id).to(\"cuda\")"
   ]
  },
  {
   "cell_type": "code",
   "execution_count": 17,
   "id": "inclusive-concord",
   "metadata": {},
   "outputs": [
    {
     "name": "stdout",
     "output_type": "stream",
     "text": [
      "<|name|>Nova Jump<|endoftext|>\n"
     ]
    }
   ],
   "source": [
    "prompt_encoded = tokenizer.encode(NAME_TOKEN, return_tensors=\"pt\").to(\"cuda\")\n",
    "\n",
    "output = model.generate(\n",
    "    prompt_encoded,\n",
    "    do_sample=True, \n",
    "    max_length=500, \n",
    "    top_k=50, \n",
    "    top_p=0.95,\n",
    "    no_repeat_ngram_size=5,\n",
    ")\n",
    "output_decoded = tokenizer.decode(output[0])\n",
    "\n",
    "\n",
    "print(output_decoded)"
   ]
  },
  {
   "cell_type": "markdown",
   "id": "innovative-angle",
   "metadata": {},
   "source": [
    "This looks great, now I'll train a model that can generate each type of text we need."
   ]
  },
  {
   "cell_type": "code",
   "execution_count": 18,
   "id": "brutal-howard",
   "metadata": {},
   "outputs": [],
   "source": [
    "del tokenizer\n",
    "del model"
   ]
  },
  {
   "cell_type": "markdown",
   "id": "headed-uncle",
   "metadata": {},
   "source": [
    "# Compiling the Dataset for All Types of Generation"
   ]
  },
  {
   "cell_type": "markdown",
   "id": "concerned-score",
   "metadata": {},
   "source": [
    "We will have one unified dataset that has text that has the tokens: `<|name|>`, `<|developer|>`, `<|publisher|>`, `<|description|>`, `<|genres|>`, and of course `<|endoftext|>`.\n",
    "\n",
    "Each example will consist of one of the class tokens, then some text, and then the end token. It would be nice to be able to generate all the text for a game with a single `<|game|>` token, so I'll also test training a model to do that."
   ]
  },
  {
   "cell_type": "code",
   "execution_count": 19,
   "id": "motivated-yemen",
   "metadata": {},
   "outputs": [],
   "source": [
    "columns = {\n",
    "    NAME_TOKEN: df.name,\n",
    "    DEV_TOKEN: df.developer,\n",
    "    PUB_TOKEN: df.publisher,\n",
    "    DESC_TOKEN: df.description,\n",
    "    GENRES_TOKEN: df.genres\n",
    "}"
   ]
  },
  {
   "cell_type": "markdown",
   "id": "changing-swiss",
   "metadata": {},
   "source": [
    "## Separate Token Dataset"
   ]
  },
  {
   "cell_type": "markdown",
   "id": "electoral-defeat",
   "metadata": {},
   "source": [
    "Here I am getting only the unique values because I don't need the outputs to be representative of the distribution dataset itself, but better representative of the data itself."
   ]
  },
  {
   "cell_type": "code",
   "execution_count": 20,
   "id": "included-iceland",
   "metadata": {},
   "outputs": [],
   "source": [
    "corpus = []\n",
    "labels = []\n",
    "\n",
    "for start_token, col in columns.items():\n",
    "    values = col.unique().tolist()\n",
    "    corpus.extend(\n",
    "        [f\"{start_token}{value}{END_TOKEN}\" for value in values]\n",
    "    )\n",
    "    labels.extend(\n",
    "        [start_token for _ in values]\n",
    "    )"
   ]
  },
  {
   "cell_type": "code",
   "execution_count": 21,
   "id": "temporal-compression",
   "metadata": {},
   "outputs": [
    {
     "data": {
      "text/plain": [
       "(87027, 87027)"
      ]
     },
     "execution_count": 21,
     "metadata": {},
     "output_type": "execute_result"
    }
   ],
   "source": [
    "len(corpus), len(labels)"
   ]
  },
  {
   "cell_type": "markdown",
   "id": "adverse-globe",
   "metadata": {},
   "source": [
    "We can validate the length of the corpus makes sense because we have ~27k examples, and 5 columns with many of the values in 3 of the columns being duplicates."
   ]
  },
  {
   "cell_type": "code",
   "execution_count": 22,
   "id": "proprietary-perspective",
   "metadata": {},
   "outputs": [
    {
     "name": "stdout",
     "output_type": "stream",
     "text": [
      "name 27048 27006\n",
      "developer 27048 17095\n",
      "publisher 27048 14344\n",
      "description 27048 27030\n",
      "genres 27048 1552\n",
      "expected_length_corpus: 87027\n"
     ]
    }
   ],
   "source": [
    "expected_length_corpus = 0\n",
    "for _, v in columns.items():\n",
    "    print(v.name, v.count(), len(v.unique()))\n",
    "    expected_length_corpus += len(v.unique())\n",
    "\n",
    "print(\"expected_length_corpus:\", expected_length_corpus)"
   ]
  },
  {
   "cell_type": "markdown",
   "id": "rental-guidance",
   "metadata": {},
   "source": [
    "Here we split the corpus into the train and validation sets. Notice that we stratify using the labels to get a proportional number of each class in each set."
   ]
  },
  {
   "cell_type": "code",
   "execution_count": 23,
   "id": "owned-theorem",
   "metadata": {},
   "outputs": [],
   "source": [
    "train, val = train_test_split(corpus, train_size=0.85, shuffle=True, stratify=labels, random_state=42)"
   ]
  },
  {
   "cell_type": "code",
   "execution_count": 24,
   "id": "female-malaysia",
   "metadata": {
    "scrolled": true
   },
   "outputs": [
    {
     "data": {
      "text/plain": [
       "(73972,\n",
       " ['<|developer|>Seattletek<|endoftext|>',\n",
       "  '<|name|>Pen Island VR<|endoftext|>',\n",
       "  \"<|description|>What is Deadly Escape?Deadly Escape is a small episodic Survival Horror game where you have to beat each chapter with one life, inspired by survival horror games of the '90s.After the complex was raided by undead monsters, our wounded protagonist is abandoned inside the infirmary. He wakes up only to find that everyone has been massacred and the place is locked down. Now he has to trace the steps of the deceased that tried to escape before him, hoping to find a way out of this nightmare.FEATURES Old school survival horror action. Ration your ammo, every bullet counts ! Collect and use key items to advance deeper inside the complex. Explore and find new weapons to increase your odds of survival. Find documents, files, and notes from the deceased personal. Uncover what happened! Compete against other players via online leaderboards! Who will be the first survivor? Listen to an all original soundtrack! Steam achievements Trading Cards Coming Soon<|endoftext|>\",\n",
       "  '<|name|>No safety<|endoftext|>',\n",
       "  '<|name|>The Jackbox Party Pack<|endoftext|>'])"
      ]
     },
     "execution_count": 24,
     "metadata": {},
     "output_type": "execute_result"
    }
   ],
   "source": [
    "len(train), train[:5]"
   ]
  },
  {
   "cell_type": "code",
   "execution_count": 25,
   "id": "cardiovascular-silicon",
   "metadata": {
    "scrolled": true
   },
   "outputs": [
    {
     "data": {
      "text/plain": [
       "(13055,\n",
       " ['<|description|>Heaven Island is an experiential game in which you\\'ll explore wonderful environments and places.On this Island, time and space are frozen and you\\'ll be able to visit it and at the same time explore the inner of your soul.All problems and worries of life will be left far behind so that you\\'ll be able to rest your soul and mind during this experience.The inspiration for the environments comes from the Renzo Piano designs and from the book \"Origins of Architectural Pleasure\" in which the player\\'s welfare is of primary importance.This game is a Massive Multiplayer Online experience in the sense that you\\'ll be able to connect with all other gamers and will be able to view their essence in order to be able to create a \"Connection\". All the details you see on the Island are made by hand, every rock you see is put there with a purpose.We really hope you\\'ll enjoy this wonderful experience.Designed to be played with or without the Oculus VR, Gear VR and (soon) the Steam Vive VRWarning: on some Apple Macbooks, the game crashes at start. We\\'ll fix the problem as fast as we can!<|endoftext|>',\n",
       "  '<|name|>Galaxy of Pen & Paper +1<|endoftext|>',\n",
       "  \"<|description|>In Bow to Blood you will compete to become Champion of the Arena, as its inscrutable Overseers test you and your fellow challengers in a winner-takes-all reality show.TAKE COMMANDStand at the bridge of your mighty airship, pilot your vessel and fire your cannons. A wide variety of opponents will keep you busy as you employ split-second tactics to stay on top of each new situation. Your ship also comes equipped with an array of powerful weapons, each with their own specialty.Order your crew between various stations to strategize and customize your ship's strengths for every situation. When assigned to a station, your crew can use their expertise to push it beyond its normal operating capabilities. Shields provide an extra layer of protection, the turret gives you another gunner, drone control unleashes powerful automatons that menace your opponents, engines provide a significant speed boost, and sensors highlight valuable items in the world and jam incoming projectiles.Use your command console to route power between ship systems to charge and activate critical abilities, or overcharge a system for a massive short-term boost! Pull out your trusty sidearm when things get up close and personal! Repel enemy boarding parties to prevent vital components from being disabled.FORGE ALLIANCES AND PLOT BETRAYALSYour AI rivals in Bow to Blood have their own motivations, objectives, and personalities. Assist your fellow challengers and gain their support, or exploit them for personal gain and earn their enmity. The choice is yours, but choose wisely – challengers will remember how you have treated them, and in the Arena, grudges die hard.At the end of each match you’ll need enough friends to avoid getting voted off the season! Make sure someone always has your back, or earn enough points to go it alone. When it comes down to the vote, how confident are you that your allies will follow through for you?EVERY PLAYTHROUGH IS UNIQUERandomized encounters and a rotating cast ensure that no two experiences will be the same. Play over and over again to discover new environments, opponents, and challenges. Bow to Blood also offers a 'hard' difficulty mode with all new opponents and greater risks if you crave the challenge!EARN SPONSORSHIPS AND REWARDSImpress fans, overseers, or other captains to earn sponsorships that upgrade the capabilities of your ship. Complete challenges to gain rewards that fill your private quarters.virtual reality headset NOT required to play.<|endoftext|>\",\n",
       "  '<|description|>Freestyle 2 is the Ultimate Online Street Basketball Game! Experience a superior gameplay of basketball and perform freestyle street basketball moves! Enjoy the excitement of vibrant street basketball with its unique cel-shaded graphics and game experience.One Player, One Character Pick a character based on their position move up in the league. Choose the progression depending on your favorite playstyle. Test your teamwork with other basketball players online and show’em what you got!Key Features Positions: Center, Power Forward, Small Forward, Shooting Guard and Point Guard. Skills: Create your own play style with over 30 moves including shooting and passing skills! Tournament & Crew: Team up with your crewmates and win in a tournament for a chance at great items and prizes! Customization: Customize your character’s look. Choose from a wide range of outfits, hairstyles, shoes, accessories to make your own fashion statement! Tutorial & Training: Exclusive tutorials on how to execute each and every skill in the game.<|endoftext|>',\n",
       "  '<|name|>Brrrainz: Feed your Hunger<|endoftext|>'])"
      ]
     },
     "execution_count": 25,
     "metadata": {},
     "output_type": "execute_result"
    }
   ],
   "source": [
    "len(val), val[:5]"
   ]
  },
  {
   "cell_type": "markdown",
   "id": "athletic-mechanics",
   "metadata": {},
   "source": [
    "Here is a horribly inefficient and hacky way of validating the stratification."
   ]
  },
  {
   "cell_type": "code",
   "execution_count": 26,
   "id": "married-arthritis",
   "metadata": {},
   "outputs": [
    {
     "data": {
      "text/plain": [
       "description    0.310590\n",
       "name           0.310320\n",
       "developer      0.196439\n",
       "publisher      0.164819\n",
       "genres         0.017831\n",
       "dtype: float64"
      ]
     },
     "execution_count": 26,
     "metadata": {},
     "output_type": "execute_result"
    }
   ],
   "source": [
    "pd.Series(train).apply(lambda x: x.split(\"<|\")[1].split(\"|>\")[0]).value_counts(normalize=True)"
   ]
  },
  {
   "cell_type": "code",
   "execution_count": 27,
   "id": "danish-reset",
   "metadata": {},
   "outputs": [
    {
     "data": {
      "text/plain": [
       "description    0.310609\n",
       "name           0.310303\n",
       "developer      0.196400\n",
       "publisher      0.164841\n",
       "genres         0.017848\n",
       "dtype: float64"
      ]
     },
     "execution_count": 27,
     "metadata": {},
     "output_type": "execute_result"
    }
   ],
   "source": [
    "pd.Series(val).apply(lambda x: x.split(\"<|\")[1].split(\"|>\")[0]).value_counts(normalize=True)"
   ]
  },
  {
   "cell_type": "markdown",
   "id": "extended-currency",
   "metadata": {},
   "source": [
    "Close enough :) Now we just save our train and val sets to two text files again and train a new model with this data."
   ]
  },
  {
   "cell_type": "code",
   "execution_count": 28,
   "id": "heated-telling",
   "metadata": {},
   "outputs": [],
   "source": [
    "# with open(\"../data/training/all_train.txt\", \"w\") as f:\n",
    "#     f.write(\"\".join(train))"
   ]
  },
  {
   "cell_type": "code",
   "execution_count": 29,
   "id": "primary-airport",
   "metadata": {},
   "outputs": [],
   "source": [
    "# with open(\"../data/training/all_val.txt\", \"w\") as f:\n",
    "#     f.write(\"\".join(val))"
   ]
  },
  {
   "cell_type": "markdown",
   "id": "permanent-proposal",
   "metadata": {},
   "source": [
    "## Dataset for One-Shot Generation\n",
    "\n",
    "Now I'll create another corpus that wraps all of the fields and should allow us to generate games with more cohesive attributes. I also don't expect there to be too many duplicate games in the dataset so I haven't removed any for this dataset.\n",
    "\n",
    "I'm less optimistic about this approach, but we'll see what happens."
   ]
  },
  {
   "cell_type": "code",
   "execution_count": 30,
   "id": "rental-triumph",
   "metadata": {},
   "outputs": [],
   "source": [
    "corpus = []\n",
    "\n",
    "for idx, row in df.iterrows():\n",
    "    game_text = (f\"{GAME_TOKEN}{NAME_TOKEN}{row['name']}{DEV_TOKEN}{row.developer}\"\n",
    "                 f\"{PUB_TOKEN}{row.publisher}{DESC_TOKEN}{row.description}{END_TOKEN}\")\n",
    "    \n",
    "    corpus.append(game_text)"
   ]
  },
  {
   "cell_type": "code",
   "execution_count": 31,
   "id": "immune-young",
   "metadata": {
    "scrolled": true
   },
   "outputs": [
    {
     "data": {
      "text/plain": [
       "[\"<|game|><|name|>Bejeweled Twist<|developer|>PopCap Games, Inc.<|publisher|>PopCap Games, Inc.<|description|>Spin, match, explode... WOW! It's a brilliant new way to play Bejeweled! Get set for a vivid sensory rush as you spin and match explosive gems for shockwaves of fun. Rotate jewels freely to set up electrifying combos, outwit surprising obstacles like Locks and Bombs, and create high-voltage Flame and Lightning gems. When you need to dial up the intensity or fine-tune your skills, turn to Challenge mode or five-minute Blitz. And if relaxing is more your style, kick up your feet with stress-free Zen. No matter the mode, you'll discover new strategies, improve your moves, and find endless ways to win! Use the revolutionary Gem Rotator to move gems around and make matches anywhere on the board Relax, rev up, refocus or recharge in four game modes — Classic, Zen, Challenge and Blitz Clear away Locks and Bombs for magnificent bonuses Create Flame and Lightning power gems, then blast them to smithereens just because you can Relive your best moves with Instant Replay and see where you rank on the high-score list Start playing quickly and easily with in-game tips Enjoy eye-popping graphics and special effects... you've never seen Bejeweled like this before!<|endoftext|>\",\n",
       " \"<|game|><|name|>Mystery P.I.™ - The New York Fortune<|developer|>SpinTop Games<|publisher|>PopCap Games, Inc.<|description|>A fun loving & eccentric New York billionaire has hidden the will to his vast fortune somewhere in New York City! His family only has 17 hours to locate the will or their Grandpa's entire estate will be given to his cat & dog. You are the world famous Mystery P.I. and the family has hired you to track down the clues hidden all over NYC. Seek & Find over 2100 hidden objects in 25 amazing NY locations like Times Square, Central Park, Coney Island, the Brooklyn Bridge and many more. If you succeed you will be awarded $25 Million dollars. Three addictive ways to play: In NY Fortune mode you must find the clues to locate the will. Collect all the Keys & Apples to unlock two Unlimited game modes: Unlock Unlimited Seek & Find and Spot the Differences to find every hidden item in every scene. Find over 2100 cleverly hidden objects. Investigate 25 amazing New York locations to find the clues. Three fun game modes: 'Find the NY Fortune' and two Unlimited game modes Play 5 unique mini-games: Match-3, Word Search, Circle Rotation, Tile Swap, Jigsaw plus a unique final puzzle. Locate the secret Keys and Apples to unlock two Unlimited game modes. Go for a Perfect Investigation & speed bonuses to become a Master PI.<|endoftext|>\",\n",
       " \"<|game|><|name|>The Wizard's Pen™<|developer|>PopCap Games, Inc.<|publisher|>PopCap Games, Inc.<|description|>The Wizard has vanished, and only you can find him in this spellbinding hidden-object adventure! The clues to the Wizard's whereabouts are in his workbook, but all the pages are blank. You'll need his magic pen to uncover and guess the image on each page. The better your guesses, the better your score — and every image you uncover brings you closer to finding the Wizard. Plus, you can play mystical mini-games, unlock special challenges, score bonus points and earn potent potions. It's a unique new twist on the seek-and-find genre that you've gotta try! Discover over 400 pages of hidden objects Power up with 10 magic potions Unlock 16 unique hidden-object mini-games! Open seven sketchbooks with special challenges<|endoftext|>\",\n",
       " \"<|game|><|name|>Plants vs. Zombies GOTY Edition<|developer|>PopCap Games, Inc.<|publisher|>PopCap Games, Inc.<|description|>Zombies are invading your home, and the only defense is your arsenal of plants! Armed with an alien nursery-worth of zombie-zapping plants like peashooters and cherry bombs, you'll need to think fast and plant faster to stop dozens of types of zombies dead in their tracks. Obstacles like a setting sun, creeping fog and a swimming pool add to the challenge, and with five game modes to dig into, the fun never dies!Features Play five game modes: Adventure, Mini-Games, Puzzle, Survival, plus the stress-free Zen Garden Conquer all 50 levels of Adventure mode \\x97 through day, night, and fog, in a swimming pool and on the rooftop Battle 26 types of zombies including pole-vaulters, snorkelers and \\x93Zomboni\\x94 drivers Earn 49 powerful perennials and collect coins to buy a pet snail, power-ups and more! Open the Almanac to see all the plants and zombies, plus amusing \\x93facts\\x94 and quotes Browse Crazy Dave\\x92s shop for special plants and tools to stem any zombie assault Amazing graphics and soundtrack, plus a bonus music video Infinite replayability: the game is never the same experience twice! Unlock all the Steam Achievements<|endoftext|>\",\n",
       " '<|game|><|name|>Escape Rosecliff Island<|developer|>SpinTop Games<|publisher|>PopCap Games, Inc.<|description|>An unexpected storm has left you shipwrecked on a mysterious and remote private island. Seek & find cleverly hidden objects and solve puzzles to find a way off the island! Find over 2100 hidden objects in 25 intriguing and mysterious locations to find items that will help you escape! Play 5 different types of mini-game puzzles to collect inventory items from each location that will be needed to help you escape the remote Rosecliff Island. Play 3 different game modes: Escape the Island, Unlimited Seek & Find, and a Mystery Bonus Game. Find over 2100 cleverly hidden objects. Explore 25 mysterious island locations to find a way off. Three fun game modes: Escape Mode, Unlimited Seek & Find, & a Mystery Bonus Game. Play 5 unique mini-games: Match 3, Word Search, Puzzle Rotation, Memory Match, Jigsaw plus a unique final puzzle. Locate all the hidden locks to reveal two bonus games. Go for a Perfect Search & back-to-back speed bonuses to beat your high score.<|endoftext|>']"
      ]
     },
     "execution_count": 31,
     "metadata": {},
     "output_type": "execute_result"
    }
   ],
   "source": [
    "corpus[100:105]"
   ]
  },
  {
   "cell_type": "code",
   "execution_count": 32,
   "id": "illegal-resource",
   "metadata": {},
   "outputs": [],
   "source": [
    "train, val = train_test_split(corpus, train_size=0.85, shuffle=True, random_state=42)"
   ]
  },
  {
   "cell_type": "code",
   "execution_count": 33,
   "id": "least-bottom",
   "metadata": {},
   "outputs": [
    {
     "data": {
      "text/plain": [
       "(22990, 4058)"
      ]
     },
     "execution_count": 33,
     "metadata": {},
     "output_type": "execute_result"
    }
   ],
   "source": [
    "len(train), len(val)"
   ]
  },
  {
   "cell_type": "code",
   "execution_count": 34,
   "id": "creative-effectiveness",
   "metadata": {},
   "outputs": [],
   "source": [
    "# with open(\"../data/training/game_train.txt\", \"w\") as f:\n",
    "#     f.write(\"\".join(train))"
   ]
  },
  {
   "cell_type": "code",
   "execution_count": 35,
   "id": "alive-patrol",
   "metadata": {},
   "outputs": [],
   "source": [
    "# with open(\"../data/training/game_val.txt\", \"w\") as f:\n",
    "#     f.write(\"\".join(val))"
   ]
  },
  {
   "cell_type": "markdown",
   "id": "difficult-convenience",
   "metadata": {},
   "source": [
    "# Testing the Multi-Class Model"
   ]
  },
  {
   "cell_type": "markdown",
   "id": "optional-integrity",
   "metadata": {},
   "source": [
    "Implementing methods to make this easier going forward."
   ]
  },
  {
   "cell_type": "code",
   "execution_count": 9,
   "id": "promising-dating",
   "metadata": {},
   "outputs": [
    {
     "data": {
      "text/plain": [
       "GPT2LMHeadModel(\n",
       "  (transformer): GPT2Model(\n",
       "    (wte): Embedding(50257, 1024)\n",
       "    (wpe): Embedding(1024, 1024)\n",
       "    (drop): Dropout(p=0.1, inplace=False)\n",
       "    (h): ModuleList(\n",
       "      (0): Block(\n",
       "        (ln_1): LayerNorm((1024,), eps=1e-05, elementwise_affine=True)\n",
       "        (attn): Attention(\n",
       "          (c_attn): Conv1D()\n",
       "          (c_proj): Conv1D()\n",
       "          (attn_dropout): Dropout(p=0.1, inplace=False)\n",
       "          (resid_dropout): Dropout(p=0.1, inplace=False)\n",
       "        )\n",
       "        (ln_2): LayerNorm((1024,), eps=1e-05, elementwise_affine=True)\n",
       "        (mlp): MLP(\n",
       "          (c_fc): Conv1D()\n",
       "          (c_proj): Conv1D()\n",
       "          (dropout): Dropout(p=0.1, inplace=False)\n",
       "        )\n",
       "      )\n",
       "      (1): Block(\n",
       "        (ln_1): LayerNorm((1024,), eps=1e-05, elementwise_affine=True)\n",
       "        (attn): Attention(\n",
       "          (c_attn): Conv1D()\n",
       "          (c_proj): Conv1D()\n",
       "          (attn_dropout): Dropout(p=0.1, inplace=False)\n",
       "          (resid_dropout): Dropout(p=0.1, inplace=False)\n",
       "        )\n",
       "        (ln_2): LayerNorm((1024,), eps=1e-05, elementwise_affine=True)\n",
       "        (mlp): MLP(\n",
       "          (c_fc): Conv1D()\n",
       "          (c_proj): Conv1D()\n",
       "          (dropout): Dropout(p=0.1, inplace=False)\n",
       "        )\n",
       "      )\n",
       "      (2): Block(\n",
       "        (ln_1): LayerNorm((1024,), eps=1e-05, elementwise_affine=True)\n",
       "        (attn): Attention(\n",
       "          (c_attn): Conv1D()\n",
       "          (c_proj): Conv1D()\n",
       "          (attn_dropout): Dropout(p=0.1, inplace=False)\n",
       "          (resid_dropout): Dropout(p=0.1, inplace=False)\n",
       "        )\n",
       "        (ln_2): LayerNorm((1024,), eps=1e-05, elementwise_affine=True)\n",
       "        (mlp): MLP(\n",
       "          (c_fc): Conv1D()\n",
       "          (c_proj): Conv1D()\n",
       "          (dropout): Dropout(p=0.1, inplace=False)\n",
       "        )\n",
       "      )\n",
       "      (3): Block(\n",
       "        (ln_1): LayerNorm((1024,), eps=1e-05, elementwise_affine=True)\n",
       "        (attn): Attention(\n",
       "          (c_attn): Conv1D()\n",
       "          (c_proj): Conv1D()\n",
       "          (attn_dropout): Dropout(p=0.1, inplace=False)\n",
       "          (resid_dropout): Dropout(p=0.1, inplace=False)\n",
       "        )\n",
       "        (ln_2): LayerNorm((1024,), eps=1e-05, elementwise_affine=True)\n",
       "        (mlp): MLP(\n",
       "          (c_fc): Conv1D()\n",
       "          (c_proj): Conv1D()\n",
       "          (dropout): Dropout(p=0.1, inplace=False)\n",
       "        )\n",
       "      )\n",
       "      (4): Block(\n",
       "        (ln_1): LayerNorm((1024,), eps=1e-05, elementwise_affine=True)\n",
       "        (attn): Attention(\n",
       "          (c_attn): Conv1D()\n",
       "          (c_proj): Conv1D()\n",
       "          (attn_dropout): Dropout(p=0.1, inplace=False)\n",
       "          (resid_dropout): Dropout(p=0.1, inplace=False)\n",
       "        )\n",
       "        (ln_2): LayerNorm((1024,), eps=1e-05, elementwise_affine=True)\n",
       "        (mlp): MLP(\n",
       "          (c_fc): Conv1D()\n",
       "          (c_proj): Conv1D()\n",
       "          (dropout): Dropout(p=0.1, inplace=False)\n",
       "        )\n",
       "      )\n",
       "      (5): Block(\n",
       "        (ln_1): LayerNorm((1024,), eps=1e-05, elementwise_affine=True)\n",
       "        (attn): Attention(\n",
       "          (c_attn): Conv1D()\n",
       "          (c_proj): Conv1D()\n",
       "          (attn_dropout): Dropout(p=0.1, inplace=False)\n",
       "          (resid_dropout): Dropout(p=0.1, inplace=False)\n",
       "        )\n",
       "        (ln_2): LayerNorm((1024,), eps=1e-05, elementwise_affine=True)\n",
       "        (mlp): MLP(\n",
       "          (c_fc): Conv1D()\n",
       "          (c_proj): Conv1D()\n",
       "          (dropout): Dropout(p=0.1, inplace=False)\n",
       "        )\n",
       "      )\n",
       "      (6): Block(\n",
       "        (ln_1): LayerNorm((1024,), eps=1e-05, elementwise_affine=True)\n",
       "        (attn): Attention(\n",
       "          (c_attn): Conv1D()\n",
       "          (c_proj): Conv1D()\n",
       "          (attn_dropout): Dropout(p=0.1, inplace=False)\n",
       "          (resid_dropout): Dropout(p=0.1, inplace=False)\n",
       "        )\n",
       "        (ln_2): LayerNorm((1024,), eps=1e-05, elementwise_affine=True)\n",
       "        (mlp): MLP(\n",
       "          (c_fc): Conv1D()\n",
       "          (c_proj): Conv1D()\n",
       "          (dropout): Dropout(p=0.1, inplace=False)\n",
       "        )\n",
       "      )\n",
       "      (7): Block(\n",
       "        (ln_1): LayerNorm((1024,), eps=1e-05, elementwise_affine=True)\n",
       "        (attn): Attention(\n",
       "          (c_attn): Conv1D()\n",
       "          (c_proj): Conv1D()\n",
       "          (attn_dropout): Dropout(p=0.1, inplace=False)\n",
       "          (resid_dropout): Dropout(p=0.1, inplace=False)\n",
       "        )\n",
       "        (ln_2): LayerNorm((1024,), eps=1e-05, elementwise_affine=True)\n",
       "        (mlp): MLP(\n",
       "          (c_fc): Conv1D()\n",
       "          (c_proj): Conv1D()\n",
       "          (dropout): Dropout(p=0.1, inplace=False)\n",
       "        )\n",
       "      )\n",
       "      (8): Block(\n",
       "        (ln_1): LayerNorm((1024,), eps=1e-05, elementwise_affine=True)\n",
       "        (attn): Attention(\n",
       "          (c_attn): Conv1D()\n",
       "          (c_proj): Conv1D()\n",
       "          (attn_dropout): Dropout(p=0.1, inplace=False)\n",
       "          (resid_dropout): Dropout(p=0.1, inplace=False)\n",
       "        )\n",
       "        (ln_2): LayerNorm((1024,), eps=1e-05, elementwise_affine=True)\n",
       "        (mlp): MLP(\n",
       "          (c_fc): Conv1D()\n",
       "          (c_proj): Conv1D()\n",
       "          (dropout): Dropout(p=0.1, inplace=False)\n",
       "        )\n",
       "      )\n",
       "      (9): Block(\n",
       "        (ln_1): LayerNorm((1024,), eps=1e-05, elementwise_affine=True)\n",
       "        (attn): Attention(\n",
       "          (c_attn): Conv1D()\n",
       "          (c_proj): Conv1D()\n",
       "          (attn_dropout): Dropout(p=0.1, inplace=False)\n",
       "          (resid_dropout): Dropout(p=0.1, inplace=False)\n",
       "        )\n",
       "        (ln_2): LayerNorm((1024,), eps=1e-05, elementwise_affine=True)\n",
       "        (mlp): MLP(\n",
       "          (c_fc): Conv1D()\n",
       "          (c_proj): Conv1D()\n",
       "          (dropout): Dropout(p=0.1, inplace=False)\n",
       "        )\n",
       "      )\n",
       "      (10): Block(\n",
       "        (ln_1): LayerNorm((1024,), eps=1e-05, elementwise_affine=True)\n",
       "        (attn): Attention(\n",
       "          (c_attn): Conv1D()\n",
       "          (c_proj): Conv1D()\n",
       "          (attn_dropout): Dropout(p=0.1, inplace=False)\n",
       "          (resid_dropout): Dropout(p=0.1, inplace=False)\n",
       "        )\n",
       "        (ln_2): LayerNorm((1024,), eps=1e-05, elementwise_affine=True)\n",
       "        (mlp): MLP(\n",
       "          (c_fc): Conv1D()\n",
       "          (c_proj): Conv1D()\n",
       "          (dropout): Dropout(p=0.1, inplace=False)\n",
       "        )\n",
       "      )\n",
       "      (11): Block(\n",
       "        (ln_1): LayerNorm((1024,), eps=1e-05, elementwise_affine=True)\n",
       "        (attn): Attention(\n",
       "          (c_attn): Conv1D()\n",
       "          (c_proj): Conv1D()\n",
       "          (attn_dropout): Dropout(p=0.1, inplace=False)\n",
       "          (resid_dropout): Dropout(p=0.1, inplace=False)\n",
       "        )\n",
       "        (ln_2): LayerNorm((1024,), eps=1e-05, elementwise_affine=True)\n",
       "        (mlp): MLP(\n",
       "          (c_fc): Conv1D()\n",
       "          (c_proj): Conv1D()\n",
       "          (dropout): Dropout(p=0.1, inplace=False)\n",
       "        )\n",
       "      )\n",
       "      (12): Block(\n",
       "        (ln_1): LayerNorm((1024,), eps=1e-05, elementwise_affine=True)\n",
       "        (attn): Attention(\n",
       "          (c_attn): Conv1D()\n",
       "          (c_proj): Conv1D()\n",
       "          (attn_dropout): Dropout(p=0.1, inplace=False)\n",
       "          (resid_dropout): Dropout(p=0.1, inplace=False)\n",
       "        )\n",
       "        (ln_2): LayerNorm((1024,), eps=1e-05, elementwise_affine=True)\n",
       "        (mlp): MLP(\n",
       "          (c_fc): Conv1D()\n",
       "          (c_proj): Conv1D()\n",
       "          (dropout): Dropout(p=0.1, inplace=False)\n",
       "        )\n",
       "      )\n",
       "      (13): Block(\n",
       "        (ln_1): LayerNorm((1024,), eps=1e-05, elementwise_affine=True)\n",
       "        (attn): Attention(\n",
       "          (c_attn): Conv1D()\n",
       "          (c_proj): Conv1D()\n",
       "          (attn_dropout): Dropout(p=0.1, inplace=False)\n",
       "          (resid_dropout): Dropout(p=0.1, inplace=False)\n",
       "        )\n",
       "        (ln_2): LayerNorm((1024,), eps=1e-05, elementwise_affine=True)\n",
       "        (mlp): MLP(\n",
       "          (c_fc): Conv1D()\n",
       "          (c_proj): Conv1D()\n",
       "          (dropout): Dropout(p=0.1, inplace=False)\n",
       "        )\n",
       "      )\n",
       "      (14): Block(\n",
       "        (ln_1): LayerNorm((1024,), eps=1e-05, elementwise_affine=True)\n",
       "        (attn): Attention(\n",
       "          (c_attn): Conv1D()\n",
       "          (c_proj): Conv1D()\n",
       "          (attn_dropout): Dropout(p=0.1, inplace=False)\n",
       "          (resid_dropout): Dropout(p=0.1, inplace=False)\n",
       "        )\n",
       "        (ln_2): LayerNorm((1024,), eps=1e-05, elementwise_affine=True)\n",
       "        (mlp): MLP(\n",
       "          (c_fc): Conv1D()\n",
       "          (c_proj): Conv1D()\n",
       "          (dropout): Dropout(p=0.1, inplace=False)\n",
       "        )\n",
       "      )\n",
       "      (15): Block(\n",
       "        (ln_1): LayerNorm((1024,), eps=1e-05, elementwise_affine=True)\n",
       "        (attn): Attention(\n",
       "          (c_attn): Conv1D()\n",
       "          (c_proj): Conv1D()\n",
       "          (attn_dropout): Dropout(p=0.1, inplace=False)\n",
       "          (resid_dropout): Dropout(p=0.1, inplace=False)\n",
       "        )\n",
       "        (ln_2): LayerNorm((1024,), eps=1e-05, elementwise_affine=True)\n",
       "        (mlp): MLP(\n",
       "          (c_fc): Conv1D()\n",
       "          (c_proj): Conv1D()\n",
       "          (dropout): Dropout(p=0.1, inplace=False)\n",
       "        )\n",
       "      )\n",
       "      (16): Block(\n",
       "        (ln_1): LayerNorm((1024,), eps=1e-05, elementwise_affine=True)\n",
       "        (attn): Attention(\n",
       "          (c_attn): Conv1D()\n",
       "          (c_proj): Conv1D()\n",
       "          (attn_dropout): Dropout(p=0.1, inplace=False)\n",
       "          (resid_dropout): Dropout(p=0.1, inplace=False)\n",
       "        )\n",
       "        (ln_2): LayerNorm((1024,), eps=1e-05, elementwise_affine=True)\n",
       "        (mlp): MLP(\n",
       "          (c_fc): Conv1D()\n",
       "          (c_proj): Conv1D()\n",
       "          (dropout): Dropout(p=0.1, inplace=False)\n",
       "        )\n",
       "      )\n",
       "      (17): Block(\n",
       "        (ln_1): LayerNorm((1024,), eps=1e-05, elementwise_affine=True)\n",
       "        (attn): Attention(\n",
       "          (c_attn): Conv1D()\n",
       "          (c_proj): Conv1D()\n",
       "          (attn_dropout): Dropout(p=0.1, inplace=False)\n",
       "          (resid_dropout): Dropout(p=0.1, inplace=False)\n",
       "        )\n",
       "        (ln_2): LayerNorm((1024,), eps=1e-05, elementwise_affine=True)\n",
       "        (mlp): MLP(\n",
       "          (c_fc): Conv1D()\n",
       "          (c_proj): Conv1D()\n",
       "          (dropout): Dropout(p=0.1, inplace=False)\n",
       "        )\n",
       "      )\n",
       "      (18): Block(\n",
       "        (ln_1): LayerNorm((1024,), eps=1e-05, elementwise_affine=True)\n",
       "        (attn): Attention(\n",
       "          (c_attn): Conv1D()\n",
       "          (c_proj): Conv1D()\n",
       "          (attn_dropout): Dropout(p=0.1, inplace=False)\n",
       "          (resid_dropout): Dropout(p=0.1, inplace=False)\n",
       "        )\n",
       "        (ln_2): LayerNorm((1024,), eps=1e-05, elementwise_affine=True)\n",
       "        (mlp): MLP(\n",
       "          (c_fc): Conv1D()\n",
       "          (c_proj): Conv1D()\n",
       "          (dropout): Dropout(p=0.1, inplace=False)\n",
       "        )\n",
       "      )\n",
       "      (19): Block(\n",
       "        (ln_1): LayerNorm((1024,), eps=1e-05, elementwise_affine=True)\n",
       "        (attn): Attention(\n",
       "          (c_attn): Conv1D()\n",
       "          (c_proj): Conv1D()\n",
       "          (attn_dropout): Dropout(p=0.1, inplace=False)\n",
       "          (resid_dropout): Dropout(p=0.1, inplace=False)\n",
       "        )\n",
       "        (ln_2): LayerNorm((1024,), eps=1e-05, elementwise_affine=True)\n",
       "        (mlp): MLP(\n",
       "          (c_fc): Conv1D()\n",
       "          (c_proj): Conv1D()\n",
       "          (dropout): Dropout(p=0.1, inplace=False)\n",
       "        )\n",
       "      )\n",
       "      (20): Block(\n",
       "        (ln_1): LayerNorm((1024,), eps=1e-05, elementwise_affine=True)\n",
       "        (attn): Attention(\n",
       "          (c_attn): Conv1D()\n",
       "          (c_proj): Conv1D()\n",
       "          (attn_dropout): Dropout(p=0.1, inplace=False)\n",
       "          (resid_dropout): Dropout(p=0.1, inplace=False)\n",
       "        )\n",
       "        (ln_2): LayerNorm((1024,), eps=1e-05, elementwise_affine=True)\n",
       "        (mlp): MLP(\n",
       "          (c_fc): Conv1D()\n",
       "          (c_proj): Conv1D()\n",
       "          (dropout): Dropout(p=0.1, inplace=False)\n",
       "        )\n",
       "      )\n",
       "      (21): Block(\n",
       "        (ln_1): LayerNorm((1024,), eps=1e-05, elementwise_affine=True)\n",
       "        (attn): Attention(\n",
       "          (c_attn): Conv1D()\n",
       "          (c_proj): Conv1D()\n",
       "          (attn_dropout): Dropout(p=0.1, inplace=False)\n",
       "          (resid_dropout): Dropout(p=0.1, inplace=False)\n",
       "        )\n",
       "        (ln_2): LayerNorm((1024,), eps=1e-05, elementwise_affine=True)\n",
       "        (mlp): MLP(\n",
       "          (c_fc): Conv1D()\n",
       "          (c_proj): Conv1D()\n",
       "          (dropout): Dropout(p=0.1, inplace=False)\n",
       "        )\n",
       "      )\n",
       "      (22): Block(\n",
       "        (ln_1): LayerNorm((1024,), eps=1e-05, elementwise_affine=True)\n",
       "        (attn): Attention(\n",
       "          (c_attn): Conv1D()\n",
       "          (c_proj): Conv1D()\n",
       "          (attn_dropout): Dropout(p=0.1, inplace=False)\n",
       "          (resid_dropout): Dropout(p=0.1, inplace=False)\n",
       "        )\n",
       "        (ln_2): LayerNorm((1024,), eps=1e-05, elementwise_affine=True)\n",
       "        (mlp): MLP(\n",
       "          (c_fc): Conv1D()\n",
       "          (c_proj): Conv1D()\n",
       "          (dropout): Dropout(p=0.1, inplace=False)\n",
       "        )\n",
       "      )\n",
       "      (23): Block(\n",
       "        (ln_1): LayerNorm((1024,), eps=1e-05, elementwise_affine=True)\n",
       "        (attn): Attention(\n",
       "          (c_attn): Conv1D()\n",
       "          (c_proj): Conv1D()\n",
       "          (attn_dropout): Dropout(p=0.1, inplace=False)\n",
       "          (resid_dropout): Dropout(p=0.1, inplace=False)\n",
       "        )\n",
       "        (ln_2): LayerNorm((1024,), eps=1e-05, elementwise_affine=True)\n",
       "        (mlp): MLP(\n",
       "          (c_fc): Conv1D()\n",
       "          (c_proj): Conv1D()\n",
       "          (dropout): Dropout(p=0.1, inplace=False)\n",
       "        )\n",
       "      )\n",
       "    )\n",
       "    (ln_f): LayerNorm((1024,), eps=1e-05, elementwise_affine=True)\n",
       "  )\n",
       "  (lm_head): Linear(in_features=1024, out_features=50257, bias=False)\n",
       ")"
      ]
     },
     "execution_count": 9,
     "metadata": {},
     "output_type": "execute_result"
    }
   ],
   "source": [
    "tokenizer, model = load_tokenizer_and_model(\"../data/models/gpt2-all-15000/\")\n",
    "\n",
    "model.to(\"cuda\")\n",
    "model.eval()"
   ]
  },
  {
   "cell_type": "code",
   "execution_count": 22,
   "id": "plastic-indonesia",
   "metadata": {},
   "outputs": [],
   "source": [
    "import random"
   ]
  },
  {
   "cell_type": "code",
   "execution_count": 46,
   "id": "hollywood-lotus",
   "metadata": {},
   "outputs": [],
   "source": [
    "game = {}\n",
    "\n",
    "for token in PROMPT_TOKENS:\n",
    "    if token == DESC_TOKEN:\n",
    "        game[token] = generate_text(tokenizer, model, DESC_TOKEN, f\"{game[NAME_TOKEN].split('<|name|>')[-1].split('<|endoftext|>')[0]} is a{random.choice(('', 'n'))} \")\n",
    "    else:\n",
    "        game[token] = generate_text(tokenizer, model, token)"
   ]
  },
  {
   "cell_type": "code",
   "execution_count": 47,
   "id": "increasing-moment",
   "metadata": {},
   "outputs": [
    {
     "data": {
      "text/plain": [
       "{'<|name|>': '<|name|>Hue and Sorrow<|endoftext|>',\n",
       " '<|developer|>': '<|developer|>Furiously Independent Pty Ltd<|endoftext|>',\n",
       " '<|publisher|>': '<|publisher|>Netherwind Studios;Digital Extremes<|endoftext|>',\n",
       " '<|description|>': '<|description|>Hue and Sorrow is a vernacular adventure game set in a post-nuclear, post-societal future. Players take on the role of a young girl called Riley, who must learn to navigate her strange and magical world. Riley’s family was murdered, and the world outside of her family’s home has changed dramatically in the past three years. However, Riley’s father is able to repair many of his damaged relationships, and even begins to rebuild his home. Riley must navigate this post-nuclear, nuclear world to find her family, save the entire nation, and find the root of her evil. She must also discover who or what is trying to kill her.Key FeaturesPlay as Riley: a young and inquisitive soul who must learn to explore the world and to decipher its many secrets. Navigate the post-nuclear, modern post-societal setting through many of the world’s familiar locations. Explore the many areas, such as the city, the mountains, and underground. Unravel the many connections that connect different characters. Discover the truth behind the ‘new normal’ of the post-nuclear age.Interact with many people throughout the world. Use them to unlock many new areas, including new side quests, and solve puzzles. Use them to find clues and solve puzzles. Experience vibrant and unexpected new worlds each time you play.<|endoftext|>',\n",
       " '<|genres|>': '<|genres|>Action;Casual;Indie;Massively Multiplayer;Simulation;Sports;Early Access<|endoftext|>'}"
      ]
     },
     "execution_count": 47,
     "metadata": {},
     "output_type": "execute_result"
    }
   ],
   "source": [
    "game"
   ]
  },
  {
   "cell_type": "code",
   "execution_count": 41,
   "id": "tough-mouth",
   "metadata": {},
   "outputs": [],
   "source": [
    "del tokenizer\n",
    "del model"
   ]
  }
 ],
 "metadata": {
  "kernelspec": {
   "display_name": "Python 3",
   "language": "python",
   "name": "python3"
  },
  "language_info": {
   "codemirror_mode": {
    "name": "ipython",
    "version": 3
   },
   "file_extension": ".py",
   "mimetype": "text/x-python",
   "name": "python",
   "nbconvert_exporter": "python",
   "pygments_lexer": "ipython3",
   "version": "3.9.2"
  },
  "varInspector": {
   "cols": {
    "lenName": 16,
    "lenType": 16,
    "lenVar": 40
   },
   "kernels_config": {
    "python": {
     "delete_cmd_postfix": "",
     "delete_cmd_prefix": "del ",
     "library": "var_list.py",
     "varRefreshCmd": "print(var_dic_list())"
    },
    "r": {
     "delete_cmd_postfix": ") ",
     "delete_cmd_prefix": "rm(",
     "library": "var_list.r",
     "varRefreshCmd": "cat(var_dic_list()) "
    }
   },
   "types_to_exclude": [
    "module",
    "function",
    "builtin_function_or_method",
    "instance",
    "_Feature"
   ],
   "window_display": false
  }
 },
 "nbformat": 4,
 "nbformat_minor": 5
}
