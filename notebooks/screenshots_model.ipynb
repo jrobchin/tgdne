{
 "cells": [
  {
   "cell_type": "code",
   "execution_count": 1,
   "id": "thick-burning",
   "metadata": {},
   "outputs": [],
   "source": [
    "import os\n",
    "\n",
    "import pandas as pd\n",
    "import numpy as np\n",
    "from PIL import Image\n",
    "import matplotlib.pyplot as plt\n",
    "import matplotlib.animation as mpanim\n",
    "from IPython import display\n",
    "import torch\n",
    "from torch import nn\n",
    "from torch import optim\n",
    "from torch.utils.data import DataLoader\n",
    "from torchvision import datasets, transforms, utils as tv_utils"
   ]
  },
  {
   "cell_type": "code",
   "execution_count": 2,
   "id": "worthy-edinburgh",
   "metadata": {},
   "outputs": [],
   "source": [
    "device = torch.device(\"cuda\" if torch.cuda.is_available() else \"cpu\")"
   ]
  },
  {
   "cell_type": "markdown",
   "id": "filled-johns",
   "metadata": {},
   "source": [
    "# Preparing the Dataset and Data Loader"
   ]
  },
  {
   "cell_type": "code",
   "execution_count": 3,
   "id": "virtual-right",
   "metadata": {},
   "outputs": [],
   "source": [
    "DATASET_DIR = os.path.abspath(\"../data/screenshots\")\n",
    "BATCH_SIZE = 32\n",
    "IMAGE_WIDTH = 128\n",
    "IMAGE_HEIGHT = 128\n",
    "NUM_CHANNELS = 3\n",
    "LATENT_VECTOR_SIZE = 100\n",
    "GEN_FMAP_SIZE = 64\n",
    "DIS_FMAP_SIZE = 64\n",
    "NGPU = 1\n",
    "LEARNING_RATE = 0.0002\n",
    "BETA_1 = 0.5"
   ]
  },
  {
   "cell_type": "code",
   "execution_count": 4,
   "id": "rapid-snowboard",
   "metadata": {},
   "outputs": [
    {
     "ename": "RuntimeError",
     "evalue": "Found 0 files in subfolders of: /home/jason/projects/content/tgdne/data/screenshots\nSupported extensions are: .jpg,.jpeg,.png,.ppm,.bmp,.pgm,.tif,.tiff,.webp",
     "output_type": "error",
     "traceback": [
      "\u001b[0;31m---------------------------------------------------------------------------\u001b[0m",
      "\u001b[0;31mRuntimeError\u001b[0m                              Traceback (most recent call last)",
      "\u001b[0;32m<ipython-input-4-cc9c11cf8301>\u001b[0m in \u001b[0;36m<module>\u001b[0;34m\u001b[0m\n\u001b[0;32m----> 1\u001b[0;31m dataset = datasets.ImageFolder(\n\u001b[0m\u001b[1;32m      2\u001b[0m     \u001b[0mroot\u001b[0m \u001b[0;34m=\u001b[0m \u001b[0mDATASET_DIR\u001b[0m\u001b[0;34m,\u001b[0m\u001b[0;34m\u001b[0m\u001b[0;34m\u001b[0m\u001b[0m\n\u001b[1;32m      3\u001b[0m     transform = transforms.Compose([\n\u001b[1;32m      4\u001b[0m         \u001b[0mtransforms\u001b[0m\u001b[0;34m.\u001b[0m\u001b[0mResize\u001b[0m\u001b[0;34m(\u001b[0m\u001b[0;34m(\u001b[0m\u001b[0mIMAGE_HEIGHT\u001b[0m\u001b[0;34m,\u001b[0m \u001b[0mIMAGE_WIDTH\u001b[0m\u001b[0;34m)\u001b[0m\u001b[0;34m)\u001b[0m\u001b[0;34m,\u001b[0m\u001b[0;34m\u001b[0m\u001b[0;34m\u001b[0m\u001b[0m\n\u001b[1;32m      5\u001b[0m         \u001b[0mtransforms\u001b[0m\u001b[0;34m.\u001b[0m\u001b[0mToTensor\u001b[0m\u001b[0;34m(\u001b[0m\u001b[0;34m)\u001b[0m\u001b[0;34m,\u001b[0m\u001b[0;34m\u001b[0m\u001b[0;34m\u001b[0m\u001b[0m\n",
      "\u001b[0;32m~/miniconda3/envs/tgdne/lib/python3.9/site-packages/torchvision/datasets/folder.py\u001b[0m in \u001b[0;36m__init__\u001b[0;34m(self, root, transform, target_transform, loader, is_valid_file)\u001b[0m\n\u001b[1;32m    251\u001b[0m             \u001b[0mis_valid_file\u001b[0m\u001b[0;34m:\u001b[0m \u001b[0mOptional\u001b[0m\u001b[0;34m[\u001b[0m\u001b[0mCallable\u001b[0m\u001b[0;34m[\u001b[0m\u001b[0;34m[\u001b[0m\u001b[0mstr\u001b[0m\u001b[0;34m]\u001b[0m\u001b[0;34m,\u001b[0m \u001b[0mbool\u001b[0m\u001b[0;34m]\u001b[0m\u001b[0;34m]\u001b[0m \u001b[0;34m=\u001b[0m \u001b[0;32mNone\u001b[0m\u001b[0;34m,\u001b[0m\u001b[0;34m\u001b[0m\u001b[0;34m\u001b[0m\u001b[0m\n\u001b[1;32m    252\u001b[0m     ):\n\u001b[0;32m--> 253\u001b[0;31m         super(ImageFolder, self).__init__(root, loader, IMG_EXTENSIONS if is_valid_file is None else None,\n\u001b[0m\u001b[1;32m    254\u001b[0m                                           \u001b[0mtransform\u001b[0m\u001b[0;34m=\u001b[0m\u001b[0mtransform\u001b[0m\u001b[0;34m,\u001b[0m\u001b[0;34m\u001b[0m\u001b[0;34m\u001b[0m\u001b[0m\n\u001b[1;32m    255\u001b[0m                                           \u001b[0mtarget_transform\u001b[0m\u001b[0;34m=\u001b[0m\u001b[0mtarget_transform\u001b[0m\u001b[0;34m,\u001b[0m\u001b[0;34m\u001b[0m\u001b[0;34m\u001b[0m\u001b[0m\n",
      "\u001b[0;32m~/miniconda3/envs/tgdne/lib/python3.9/site-packages/torchvision/datasets/folder.py\u001b[0m in \u001b[0;36m__init__\u001b[0;34m(self, root, loader, extensions, transform, target_transform, is_valid_file)\u001b[0m\n\u001b[1;32m    130\u001b[0m             \u001b[0;32mif\u001b[0m \u001b[0mextensions\u001b[0m \u001b[0;32mis\u001b[0m \u001b[0;32mnot\u001b[0m \u001b[0;32mNone\u001b[0m\u001b[0;34m:\u001b[0m\u001b[0;34m\u001b[0m\u001b[0;34m\u001b[0m\u001b[0m\n\u001b[1;32m    131\u001b[0m                 \u001b[0mmsg\u001b[0m \u001b[0;34m+=\u001b[0m \u001b[0;34m\"Supported extensions are: {}\"\u001b[0m\u001b[0;34m.\u001b[0m\u001b[0mformat\u001b[0m\u001b[0;34m(\u001b[0m\u001b[0;34m\",\"\u001b[0m\u001b[0;34m.\u001b[0m\u001b[0mjoin\u001b[0m\u001b[0;34m(\u001b[0m\u001b[0mextensions\u001b[0m\u001b[0;34m)\u001b[0m\u001b[0;34m)\u001b[0m\u001b[0;34m\u001b[0m\u001b[0;34m\u001b[0m\u001b[0m\n\u001b[0;32m--> 132\u001b[0;31m             \u001b[0;32mraise\u001b[0m \u001b[0mRuntimeError\u001b[0m\u001b[0;34m(\u001b[0m\u001b[0mmsg\u001b[0m\u001b[0;34m)\u001b[0m\u001b[0;34m\u001b[0m\u001b[0;34m\u001b[0m\u001b[0m\n\u001b[0m\u001b[1;32m    133\u001b[0m \u001b[0;34m\u001b[0m\u001b[0m\n\u001b[1;32m    134\u001b[0m         \u001b[0mself\u001b[0m\u001b[0;34m.\u001b[0m\u001b[0mloader\u001b[0m \u001b[0;34m=\u001b[0m \u001b[0mloader\u001b[0m\u001b[0;34m\u001b[0m\u001b[0;34m\u001b[0m\u001b[0m\n",
      "\u001b[0;31mRuntimeError\u001b[0m: Found 0 files in subfolders of: /home/jason/projects/content/tgdne/data/screenshots\nSupported extensions are: .jpg,.jpeg,.png,.ppm,.bmp,.pgm,.tif,.tiff,.webp"
     ]
    }
   ],
   "source": [
    "dataset = datasets.ImageFolder(\n",
    "    root = DATASET_DIR,\n",
    "    transform = transforms.Compose([\n",
    "        transforms.Resize((IMAGE_HEIGHT, IMAGE_WIDTH)),\n",
    "        transforms.ToTensor(),\n",
    "        transforms.Normalize((0.5, 0.5, 0.5), (0.5, 0.5, 0.5))\n",
    "    ]))"
   ]
  },
  {
   "cell_type": "code",
   "execution_count": null,
   "id": "finite-party",
   "metadata": {},
   "outputs": [],
   "source": [
    "dataloader = DataLoader(dataset, batch_size=BATCH_SIZE, shuffle=True, num_workers=4)"
   ]
  },
  {
   "cell_type": "markdown",
   "id": "floating-politics",
   "metadata": {},
   "source": [
    "## Example Batch\n",
    "\n",
    "Here we'll visualize a single batch of training images,"
   ]
  },
  {
   "cell_type": "code",
   "execution_count": null,
   "id": "forbidden-greene",
   "metadata": {},
   "outputs": [],
   "source": [
    "test_batch = next(iter(dataloader))\n",
    "plt.figure(figsize=(32, 8))\n",
    "plt.axis(\"off\")\n",
    "\n",
    "image_grid = np.transpose(tv_utils.make_grid(test_batch[0].to(\"cpu\")[:BATCH_SIZE], padding=8, normalize=True).cpu(), (1, 2, 0))\n",
    "\n",
    "plt.imshow(image_grid)"
   ]
  },
  {
   "cell_type": "code",
   "execution_count": null,
   "id": "european-linux",
   "metadata": {},
   "outputs": [],
   "source": [
    "def arr_to_image(data: np.ndarray):\n",
    "    return Image.fromarray((255.0 / data.max() * (data - data.min())).astype(np.uint8))"
   ]
  },
  {
   "cell_type": "markdown",
   "id": "guided-junior",
   "metadata": {},
   "source": [
    "# Building the Model\n",
    "\n",
    "This model is heavily based on the official PyTorch tutorial: https://pytorch.org/tutorials/beginner/dcgan_faces_tutorial.html"
   ]
  },
  {
   "cell_type": "code",
   "execution_count": 5,
   "id": "revised-miniature",
   "metadata": {},
   "outputs": [],
   "source": [
    "def weights_init(m):\n",
    "    classname = m.__class__.__name__\n",
    "    if classname.find('Conv') != -1:\n",
    "        nn.init.normal_(m.weight.data, 0.0, 0.02)\n",
    "    elif classname.find('BatchNorm') != -1:\n",
    "        nn.init.normal_(m.weight.data, 1.0, 0.02)\n",
    "        nn.init.constant_(m.bias.data, 0)"
   ]
  },
  {
   "cell_type": "code",
   "execution_count": 6,
   "id": "pretty-diameter",
   "metadata": {},
   "outputs": [],
   "source": [
    "DEBUG = True\n",
    "\n",
    "class debug_layer(nn.Module):\n",
    "    def __init__(self, enabled, prefix):\n",
    "        super().__init__()\n",
    "        self.enabled = enabled\n",
    "        self.prefix = prefix\n",
    "    \n",
    "    def forward(self, x):\n",
    "        if self.enabled:\n",
    "            print(self.prefix, x.shape)\n",
    "        return x"
   ]
  },
  {
   "cell_type": "code",
   "execution_count": 7,
   "id": "tough-terrorist",
   "metadata": {},
   "outputs": [],
   "source": [
    "class Generator(nn.Module):\n",
    "    def __init__(self, ngpu):\n",
    "        super(Generator, self).__init__()\n",
    "        self.ngpu = ngpu\n",
    "        self.main = nn.Sequential(\n",
    "            nn.ConvTranspose2d(GEN_FMAP_SIZE * 64, GEN_FMAP_SIZE * 32, 4, 2, 1, bias=False),\n",
    "            nn.BatchNorm2d(GEN_FMAP_SIZE * 32),\n",
    "            nn.ReLU(True),\n",
    "\n",
    "            nn.ConvTranspose2d(GEN_FMAP_SIZE * 32, GEN_FMAP_SIZE * 16, 4, 2, 1, bias=False),\n",
    "            nn.BatchNorm2d(GEN_FMAP_SIZE * 16),\n",
    "            nn.ReLU(True),\n",
    "\n",
    "            nn.ConvTranspose2d(GEN_FMAP_SIZE * 16, GEN_FMAP_SIZE * 4, 4, 2, 1, bias=False),\n",
    "            nn.BatchNorm2d(GEN_FMAP_SIZE * 4),\n",
    "            nn.ReLU(True),\n",
    "            \n",
    "            nn.ConvTranspose2d(GEN_FMAP_SIZE * 4, GEN_FMAP_SIZE * 2, 4, 2, 1, bias=False),\n",
    "            nn.BatchNorm2d(GEN_FMAP_SIZE * 2),\n",
    "            nn.ReLU(True),\n",
    "            \n",
    "            nn.ConvTranspose2d(GEN_FMAP_SIZE * 2, GEN_FMAP_SIZE, 4, 2, 1, bias=False),\n",
    "            nn.BatchNorm2d(GEN_FMAP_SIZE),\n",
    "            nn.ReLU(True),\n",
    "\n",
    "            nn.ConvTranspose2d(GEN_FMAP_SIZE, NUM_CHANNELS, 4, 2, 1, bias=False),\n",
    "            nn.Tanh(),\n",
    "        )\n",
    "\n",
    "    def forward(self, input):\n",
    "        return self.main(input)"
   ]
  },
  {
   "cell_type": "code",
   "execution_count": 8,
   "id": "interior-switch",
   "metadata": {
    "scrolled": true
   },
   "outputs": [
    {
     "data": {
      "text/plain": [
       "Generator(\n",
       "  (main): Sequential(\n",
       "    (0): ConvTranspose2d(4096, 2048, kernel_size=(4, 4), stride=(2, 2), padding=(1, 1), bias=False)\n",
       "    (1): BatchNorm2d(2048, eps=1e-05, momentum=0.1, affine=True, track_running_stats=True)\n",
       "    (2): ReLU(inplace=True)\n",
       "    (3): ConvTranspose2d(2048, 1024, kernel_size=(4, 4), stride=(2, 2), padding=(1, 1), bias=False)\n",
       "    (4): BatchNorm2d(1024, eps=1e-05, momentum=0.1, affine=True, track_running_stats=True)\n",
       "    (5): ReLU(inplace=True)\n",
       "    (6): ConvTranspose2d(1024, 256, kernel_size=(4, 4), stride=(2, 2), padding=(1, 1), bias=False)\n",
       "    (7): BatchNorm2d(256, eps=1e-05, momentum=0.1, affine=True, track_running_stats=True)\n",
       "    (8): ReLU(inplace=True)\n",
       "    (9): ConvTranspose2d(256, 128, kernel_size=(4, 4), stride=(2, 2), padding=(1, 1), bias=False)\n",
       "    (10): BatchNorm2d(128, eps=1e-05, momentum=0.1, affine=True, track_running_stats=True)\n",
       "    (11): ReLU(inplace=True)\n",
       "    (12): ConvTranspose2d(128, 64, kernel_size=(4, 4), stride=(2, 2), padding=(1, 1), bias=False)\n",
       "    (13): BatchNorm2d(64, eps=1e-05, momentum=0.1, affine=True, track_running_stats=True)\n",
       "    (14): ReLU(inplace=True)\n",
       "    (15): ConvTranspose2d(64, 3, kernel_size=(4, 4), stride=(2, 2), padding=(1, 1), bias=False)\n",
       "    (16): Tanh()\n",
       "  )\n",
       ")"
      ]
     },
     "execution_count": 8,
     "metadata": {},
     "output_type": "execute_result"
    }
   ],
   "source": [
    "net_g = Generator(NGPU).to(device)\n",
    "net_g.apply(weights_init)"
   ]
  },
  {
   "cell_type": "code",
   "execution_count": null,
   "id": "frequent-optics",
   "metadata": {},
   "outputs": [],
   "source": [
    "kernel = 4\n",
    "stride = 2\n",
    "\n",
    "class Discriminator(nn.Module):\n",
    "    def __init__(self, ngpu):\n",
    "        super(Discriminator, self).__init__()\n",
    "        self.ngpu = ngpu\n",
    "        self.main = nn.Sequential(\n",
    "            nn.Conv2d(NUM_CHANNELS, DIS_FMAP_SIZE, kernel, stride, 1, bias=False),\n",
    "            nn.LeakyReLU(0.2, inplace=True),\n",
    "            \n",
    "            nn.Conv2d(DIS_FMAP_SIZE, DIS_FMAP_SIZE * 2, kernel, stride, 1, bias=False),\n",
    "            nn.BatchNorm2d(DIS_FMAP_SIZE * 2),\n",
    "            nn.LeakyReLU(0.2, inplace=True),\n",
    "\n",
    "            nn.Conv2d(DIS_FMAP_SIZE * 2, DIS_FMAP_SIZE * 4, kernel, stride, 1, bias=False),\n",
    "            nn.BatchNorm2d(DIS_FMAP_SIZE * 4),\n",
    "            nn.LeakyReLU(0.2, inplace=True),\n",
    "\n",
    "            nn.Conv2d(DIS_FMAP_SIZE * 4, DIS_FMAP_SIZE * 8, kernel, stride, 1, bias=False),\n",
    "            nn.BatchNorm2d(DIS_FMAP_SIZE * 8),\n",
    "            nn.LeakyReLU(0.2, inplace=True),\n",
    "\n",
    "            nn.Conv2d(DIS_FMAP_SIZE * 8, DIS_FMAP_SIZE * 16, kernel, stride, 1, bias=False),\n",
    "            nn.BatchNorm2d(DIS_FMAP_SIZE * 16),\n",
    "            nn.LeakyReLU(0.2, inplace=True),\n",
    "\n",
    "            nn.Conv2d(DIS_FMAP_SIZE * 16, 1, 4, 1, 0, bias=False),\n",
    "            nn.Sigmoid(),\n",
    "        )\n",
    "\n",
    "    def forward(self, input):\n",
    "        return self.main(input)"
   ]
  },
  {
   "cell_type": "code",
   "execution_count": null,
   "id": "functional-walker",
   "metadata": {},
   "outputs": [],
   "source": [
    "net_d = Discriminator(NGPU).to(device)\n",
    "net_d.apply(weights_init)"
   ]
  },
  {
   "cell_type": "code",
   "execution_count": null,
   "id": "prompt-tribute",
   "metadata": {},
   "outputs": [],
   "source": [
    "criterion = nn.BCELoss()\n",
    "fixed_noise = torch.randn(32, LATENT_VECTOR_SIZE, 1, 1, device=device)\n",
    "\n",
    "real_label = 1.\n",
    "fake_label = 0.\n",
    "\n",
    "optimizer_d = optim.Adam(net_d.parameters(), lr=LEARNING_RATE, betas=(BETA_1, 0.999))\n",
    "optimizer_g = optim.Adam(net_g.parameters(), lr=LEARNING_RATE, betas=(BETA_1, 0.999))"
   ]
  },
  {
   "cell_type": "code",
   "execution_count": null,
   "id": "handmade-setup",
   "metadata": {
    "scrolled": true
   },
   "outputs": [],
   "source": [
    "num_epochs = 5\n",
    "img_list = []\n",
    "g_losses = []\n",
    "d_losses = []\n",
    "iters = 0\n",
    "\n",
    "print(\"Starting Training Loop...\")\n",
    "for epoch in range(num_epochs):\n",
    "    # Loop over batches\n",
    "    for i, data in enumerate(dataloader, 0):\n",
    "\n",
    "        # Train discriminator\n",
    "        \n",
    "        # Train with all-real batch\n",
    "        net_d.zero_grad()\n",
    "\n",
    "        real_cpu = data[0].to(device)\n",
    "        b_size = real_cpu.size(0)\n",
    "        label = torch.full((b_size,), real_label, dtype=torch.float, device=device)\n",
    "\n",
    "        output = net_d(real_cpu).view(-1)\n",
    "\n",
    "        err_d_real = criterion(output, label)\n",
    "\n",
    "        err_d_real.backward()\n",
    "        D_x = output.mean().item()\n",
    "\n",
    "        # Train with all-fake batch\n",
    "        # Generate batch of latent vectors\n",
    "        noise = torch.randn(b_size, LATENT_VECTOR_SIZE, 1, 1, device=device)\n",
    "\n",
    "        fake = net_g(noise)\n",
    "        label.fill_(fake_label)\n",
    "\n",
    "        output = net_d(fake.detach()).view(-1)\n",
    "\n",
    "        err_d_fake = criterion(output, label)\n",
    "\n",
    "        err_d_fake.backward()\n",
    "        D_G_z1 = output.mean().item()\n",
    "\n",
    "        err_d = err_d_real + err_d_fake\n",
    "        \n",
    "        optimizer_d.step()\n",
    "\n",
    "        # Train generator\n",
    "        net_g.zero_grad()\n",
    "        label.fill_(real_label)\n",
    "\n",
    "        output = net_d(fake).view(-1)\n",
    "\n",
    "        err_g = criterion(output, label)\n",
    "\n",
    "        err_g.backward()\n",
    "        D_G_z2 = output.mean().item()\n",
    "        \n",
    "        optimizer_g.step()\n",
    "\n",
    "        # Output training stats\n",
    "        if i % 50 == 0:\n",
    "            print('[%d/%d][%d/%d]\\tLoss_D: %.4f\\tLoss_G: %.4f\\tD(x): %.4f\\tD(G(z)): %.4f / %.4f'\n",
    "                  % (epoch, num_epochs, i, len(dataloader),\n",
    "                     err_d.item(), err_g.item(), D_x, D_G_z1, D_G_z2))\n",
    "\n",
    "        # Save Losses for plotting later\n",
    "        g_losses.append(err_g.item())\n",
    "        d_losses.append(err_d.item())\n",
    "\n",
    "        # Check how the generator is doing by saving G's output on fixed_noise\n",
    "        if (iters % 500 == 0) or ((epoch == num_epochs-1) and (i == len(dataloader)-1)):\n",
    "            with torch.no_grad():\n",
    "                fake = net_g(fixed_noise).detach().cpu()\n",
    "            img_grid = tv_utils.make_grid(fake, padding=2, normalize=True).cpu().numpy()\n",
    "            img_grid = np.transpose(img_grid, (1, 2, 0))\n",
    "            img_list.append(img_grid)\n",
    "            pil_img_grid = arr_to_image(img_grid)\n",
    "            pil_img_grid.save(f\"../data/models/headergen/images/{epoch}-{err_g.item()}-{err_d.item()}.jpg\")\n",
    "\n",
    "        # Check how the generator is doing by saving G's output on fixed_noise\n",
    "        if (iters % 2000 == 0) or ((epoch == num_epochs-1) and (i == len(dataloader)-1)):\n",
    "            if min(g_losses) > err_g.item() and min(d_losses) > err_d.item():\n",
    "                torch.save(net_g.state_dict(), f\"../data/models/headergen/models/gen-{epoch}-{err_g.item()}.pth\")\n",
    "                torch.save(net_d.state_dict(), f\"../data/models/headergen/models/dis-{epoch}-{err_d.item()}.pth\")\n",
    "            \n",
    "        iters += 1"
   ]
  },
  {
   "cell_type": "code",
   "execution_count": null,
   "id": "floppy-grave",
   "metadata": {},
   "outputs": [],
   "source": [
    "img_grid.shape"
   ]
  },
  {
   "cell_type": "code",
   "execution_count": null,
   "id": "sublime-cliff",
   "metadata": {
    "scrolled": false
   },
   "outputs": [],
   "source": [
    "#%%capture\n",
    "fig = plt.figure(figsize=(8,8))\n",
    "plt.axis(\"off\")\n",
    "ims = [[plt.imshow(np.transpose(i,(1,2,0)), animated=True)] for i in img_list]\n",
    "ani = mpanim.ArtistAnimation(fig, ims, interval=1000, repeat_delay=1000, blit=True)\n",
    "\n",
    "display.HTML(ani.to_jshtml())"
   ]
  },
  {
   "cell_type": "code",
   "execution_count": null,
   "id": "virtual-agreement",
   "metadata": {
    "scrolled": true
   },
   "outputs": [],
   "source": [
    "# Grab a batch of real images from the dataloader\n",
    "real_batch = next(iter(dataloader))\n",
    "\n",
    "# Plot the real images\n",
    "plt.figure(figsize=(15,15))\n",
    "plt.subplot(1,2,1)\n",
    "plt.axis(\"off\")\n",
    "plt.title(\"Real Images\")\n",
    "plt.imshow(np.transpose(tv_utils.make_grid(real_batch[0].to(device)[:64], padding=5, normalize=True).cpu(),(1,2,0)))\n",
    "\n",
    "# Plot the fake images from the last epoch\n",
    "plt.subplot(1,2,2)\n",
    "plt.axis(\"off\")\n",
    "plt.title(\"Fake Images\")\n",
    "plt.imshow(np.transpose(img_list[-1],(1,2,0)))\n",
    "plt.show()"
   ]
  },
  {
   "cell_type": "code",
   "execution_count": null,
   "id": "induced-shade",
   "metadata": {},
   "outputs": [],
   "source": [
    "plt.figure(figsize=(10,5))\n",
    "plt.title(\"Generator and Discriminator Loss During Training\")\n",
    "plt.plot(g_losses,label=\"G\")\n",
    "plt.plot(d_losses,label=\"D\")\n",
    "plt.xlabel(\"iterations\")\n",
    "plt.ylabel(\"Loss\")\n",
    "plt.legend()\n",
    "plt.show()"
   ]
  }
 ],
 "metadata": {
  "kernelspec": {
   "display_name": "Python 3",
   "language": "python",
   "name": "python3"
  },
  "language_info": {
   "codemirror_mode": {
    "name": "ipython",
    "version": 3
   },
   "file_extension": ".py",
   "mimetype": "text/x-python",
   "name": "python",
   "nbconvert_exporter": "python",
   "pygments_lexer": "ipython3",
   "version": "3.9.2"
  },
  "varInspector": {
   "cols": {
    "lenName": 16,
    "lenType": 16,
    "lenVar": 40
   },
   "kernels_config": {
    "python": {
     "delete_cmd_postfix": "",
     "delete_cmd_prefix": "del ",
     "library": "var_list.py",
     "varRefreshCmd": "print(var_dic_list())"
    },
    "r": {
     "delete_cmd_postfix": ") ",
     "delete_cmd_prefix": "rm(",
     "library": "var_list.r",
     "varRefreshCmd": "cat(var_dic_list()) "
    }
   },
   "types_to_exclude": [
    "module",
    "function",
    "builtin_function_or_method",
    "instance",
    "_Feature"
   ],
   "window_display": false
  }
 },
 "nbformat": 4,
 "nbformat_minor": 5
}
