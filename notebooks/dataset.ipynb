{
 "cells": [
  {
   "cell_type": "code",
   "execution_count": 1,
   "id": "timely-blade",
   "metadata": {},
   "outputs": [],
   "source": [
    "import shutil\n",
    "\n",
    "import pandas as pd\n",
    "import numpy as np\n",
    "import torchtext\n",
    "from bs4 import BeautifulSoup\n",
    "import requests"
   ]
  },
  {
   "cell_type": "markdown",
   "id": "reported-anchor",
   "metadata": {},
   "source": [
    "# Exploring the Data"
   ]
  },
  {
   "cell_type": "code",
   "execution_count": 2,
   "id": "standard-supervisor",
   "metadata": {},
   "outputs": [],
   "source": [
    "main_df = pd.read_csv(\"../data/steam/steam.csv\")\n",
    "desc_df = pd.read_csv(\"../data/steam/steam_description_data.csv\")\n",
    "media_df = pd.read_csv(\"../data/steam/steam_media_data.csv\")"
   ]
  },
  {
   "cell_type": "code",
   "execution_count": 3,
   "id": "whole-milan",
   "metadata": {},
   "outputs": [
    {
     "data": {
      "text/html": [
       "<div>\n",
       "<style scoped>\n",
       "    .dataframe tbody tr th:only-of-type {\n",
       "        vertical-align: middle;\n",
       "    }\n",
       "\n",
       "    .dataframe tbody tr th {\n",
       "        vertical-align: top;\n",
       "    }\n",
       "\n",
       "    .dataframe thead th {\n",
       "        text-align: right;\n",
       "    }\n",
       "</style>\n",
       "<table border=\"1\" class=\"dataframe\">\n",
       "  <thead>\n",
       "    <tr style=\"text-align: right;\">\n",
       "      <th></th>\n",
       "      <th>appid</th>\n",
       "      <th>name</th>\n",
       "      <th>release_date</th>\n",
       "      <th>english</th>\n",
       "      <th>developer</th>\n",
       "      <th>publisher</th>\n",
       "      <th>platforms</th>\n",
       "      <th>required_age</th>\n",
       "      <th>categories</th>\n",
       "      <th>genres</th>\n",
       "      <th>steamspy_tags</th>\n",
       "      <th>achievements</th>\n",
       "      <th>positive_ratings</th>\n",
       "      <th>negative_ratings</th>\n",
       "      <th>average_playtime</th>\n",
       "      <th>median_playtime</th>\n",
       "      <th>owners</th>\n",
       "      <th>price</th>\n",
       "    </tr>\n",
       "  </thead>\n",
       "  <tbody>\n",
       "    <tr>\n",
       "      <th>0</th>\n",
       "      <td>10</td>\n",
       "      <td>Counter-Strike</td>\n",
       "      <td>2000-11-01</td>\n",
       "      <td>1</td>\n",
       "      <td>Valve</td>\n",
       "      <td>Valve</td>\n",
       "      <td>windows;mac;linux</td>\n",
       "      <td>0</td>\n",
       "      <td>Multi-player;Online Multi-Player;Local Multi-P...</td>\n",
       "      <td>Action</td>\n",
       "      <td>Action;FPS;Multiplayer</td>\n",
       "      <td>0</td>\n",
       "      <td>124534</td>\n",
       "      <td>3339</td>\n",
       "      <td>17612</td>\n",
       "      <td>317</td>\n",
       "      <td>10000000-20000000</td>\n",
       "      <td>7.19</td>\n",
       "    </tr>\n",
       "    <tr>\n",
       "      <th>1</th>\n",
       "      <td>20</td>\n",
       "      <td>Team Fortress Classic</td>\n",
       "      <td>1999-04-01</td>\n",
       "      <td>1</td>\n",
       "      <td>Valve</td>\n",
       "      <td>Valve</td>\n",
       "      <td>windows;mac;linux</td>\n",
       "      <td>0</td>\n",
       "      <td>Multi-player;Online Multi-Player;Local Multi-P...</td>\n",
       "      <td>Action</td>\n",
       "      <td>Action;FPS;Multiplayer</td>\n",
       "      <td>0</td>\n",
       "      <td>3318</td>\n",
       "      <td>633</td>\n",
       "      <td>277</td>\n",
       "      <td>62</td>\n",
       "      <td>5000000-10000000</td>\n",
       "      <td>3.99</td>\n",
       "    </tr>\n",
       "    <tr>\n",
       "      <th>2</th>\n",
       "      <td>30</td>\n",
       "      <td>Day of Defeat</td>\n",
       "      <td>2003-05-01</td>\n",
       "      <td>1</td>\n",
       "      <td>Valve</td>\n",
       "      <td>Valve</td>\n",
       "      <td>windows;mac;linux</td>\n",
       "      <td>0</td>\n",
       "      <td>Multi-player;Valve Anti-Cheat enabled</td>\n",
       "      <td>Action</td>\n",
       "      <td>FPS;World War II;Multiplayer</td>\n",
       "      <td>0</td>\n",
       "      <td>3416</td>\n",
       "      <td>398</td>\n",
       "      <td>187</td>\n",
       "      <td>34</td>\n",
       "      <td>5000000-10000000</td>\n",
       "      <td>3.99</td>\n",
       "    </tr>\n",
       "    <tr>\n",
       "      <th>3</th>\n",
       "      <td>40</td>\n",
       "      <td>Deathmatch Classic</td>\n",
       "      <td>2001-06-01</td>\n",
       "      <td>1</td>\n",
       "      <td>Valve</td>\n",
       "      <td>Valve</td>\n",
       "      <td>windows;mac;linux</td>\n",
       "      <td>0</td>\n",
       "      <td>Multi-player;Online Multi-Player;Local Multi-P...</td>\n",
       "      <td>Action</td>\n",
       "      <td>Action;FPS;Multiplayer</td>\n",
       "      <td>0</td>\n",
       "      <td>1273</td>\n",
       "      <td>267</td>\n",
       "      <td>258</td>\n",
       "      <td>184</td>\n",
       "      <td>5000000-10000000</td>\n",
       "      <td>3.99</td>\n",
       "    </tr>\n",
       "    <tr>\n",
       "      <th>4</th>\n",
       "      <td>50</td>\n",
       "      <td>Half-Life: Opposing Force</td>\n",
       "      <td>1999-11-01</td>\n",
       "      <td>1</td>\n",
       "      <td>Gearbox Software</td>\n",
       "      <td>Valve</td>\n",
       "      <td>windows;mac;linux</td>\n",
       "      <td>0</td>\n",
       "      <td>Single-player;Multi-player;Valve Anti-Cheat en...</td>\n",
       "      <td>Action</td>\n",
       "      <td>FPS;Action;Sci-fi</td>\n",
       "      <td>0</td>\n",
       "      <td>5250</td>\n",
       "      <td>288</td>\n",
       "      <td>624</td>\n",
       "      <td>415</td>\n",
       "      <td>5000000-10000000</td>\n",
       "      <td>3.99</td>\n",
       "    </tr>\n",
       "  </tbody>\n",
       "</table>\n",
       "</div>"
      ],
      "text/plain": [
       "   appid                       name release_date  english         developer  \\\n",
       "0     10             Counter-Strike   2000-11-01        1             Valve   \n",
       "1     20      Team Fortress Classic   1999-04-01        1             Valve   \n",
       "2     30              Day of Defeat   2003-05-01        1             Valve   \n",
       "3     40         Deathmatch Classic   2001-06-01        1             Valve   \n",
       "4     50  Half-Life: Opposing Force   1999-11-01        1  Gearbox Software   \n",
       "\n",
       "  publisher          platforms  required_age  \\\n",
       "0     Valve  windows;mac;linux             0   \n",
       "1     Valve  windows;mac;linux             0   \n",
       "2     Valve  windows;mac;linux             0   \n",
       "3     Valve  windows;mac;linux             0   \n",
       "4     Valve  windows;mac;linux             0   \n",
       "\n",
       "                                          categories  genres  \\\n",
       "0  Multi-player;Online Multi-Player;Local Multi-P...  Action   \n",
       "1  Multi-player;Online Multi-Player;Local Multi-P...  Action   \n",
       "2              Multi-player;Valve Anti-Cheat enabled  Action   \n",
       "3  Multi-player;Online Multi-Player;Local Multi-P...  Action   \n",
       "4  Single-player;Multi-player;Valve Anti-Cheat en...  Action   \n",
       "\n",
       "                  steamspy_tags  achievements  positive_ratings  \\\n",
       "0        Action;FPS;Multiplayer             0            124534   \n",
       "1        Action;FPS;Multiplayer             0              3318   \n",
       "2  FPS;World War II;Multiplayer             0              3416   \n",
       "3        Action;FPS;Multiplayer             0              1273   \n",
       "4             FPS;Action;Sci-fi             0              5250   \n",
       "\n",
       "   negative_ratings  average_playtime  median_playtime             owners  \\\n",
       "0              3339             17612              317  10000000-20000000   \n",
       "1               633               277               62   5000000-10000000   \n",
       "2               398               187               34   5000000-10000000   \n",
       "3               267               258              184   5000000-10000000   \n",
       "4               288               624              415   5000000-10000000   \n",
       "\n",
       "   price  \n",
       "0   7.19  \n",
       "1   3.99  \n",
       "2   3.99  \n",
       "3   3.99  \n",
       "4   3.99  "
      ]
     },
     "execution_count": 3,
     "metadata": {},
     "output_type": "execute_result"
    }
   ],
   "source": [
    "main_df.head()"
   ]
  },
  {
   "cell_type": "code",
   "execution_count": 4,
   "id": "global-equipment",
   "metadata": {},
   "outputs": [
    {
     "data": {
      "text/html": [
       "<div>\n",
       "<style scoped>\n",
       "    .dataframe tbody tr th:only-of-type {\n",
       "        vertical-align: middle;\n",
       "    }\n",
       "\n",
       "    .dataframe tbody tr th {\n",
       "        vertical-align: top;\n",
       "    }\n",
       "\n",
       "    .dataframe thead th {\n",
       "        text-align: right;\n",
       "    }\n",
       "</style>\n",
       "<table border=\"1\" class=\"dataframe\">\n",
       "  <thead>\n",
       "    <tr style=\"text-align: right;\">\n",
       "      <th></th>\n",
       "      <th>steam_appid</th>\n",
       "      <th>detailed_description</th>\n",
       "      <th>about_the_game</th>\n",
       "      <th>short_description</th>\n",
       "    </tr>\n",
       "  </thead>\n",
       "  <tbody>\n",
       "    <tr>\n",
       "      <th>0</th>\n",
       "      <td>10</td>\n",
       "      <td>Play the world's number 1 online action game. ...</td>\n",
       "      <td>Play the world's number 1 online action game. ...</td>\n",
       "      <td>Play the world's number 1 online action game. ...</td>\n",
       "    </tr>\n",
       "    <tr>\n",
       "      <th>1</th>\n",
       "      <td>20</td>\n",
       "      <td>One of the most popular online action games of...</td>\n",
       "      <td>One of the most popular online action games of...</td>\n",
       "      <td>One of the most popular online action games of...</td>\n",
       "    </tr>\n",
       "    <tr>\n",
       "      <th>2</th>\n",
       "      <td>30</td>\n",
       "      <td>Enlist in an intense brand of Axis vs. Allied ...</td>\n",
       "      <td>Enlist in an intense brand of Axis vs. Allied ...</td>\n",
       "      <td>Enlist in an intense brand of Axis vs. Allied ...</td>\n",
       "    </tr>\n",
       "    <tr>\n",
       "      <th>3</th>\n",
       "      <td>40</td>\n",
       "      <td>Enjoy fast-paced multiplayer gaming with Death...</td>\n",
       "      <td>Enjoy fast-paced multiplayer gaming with Death...</td>\n",
       "      <td>Enjoy fast-paced multiplayer gaming with Death...</td>\n",
       "    </tr>\n",
       "    <tr>\n",
       "      <th>4</th>\n",
       "      <td>50</td>\n",
       "      <td>Return to the Black Mesa Research Facility as ...</td>\n",
       "      <td>Return to the Black Mesa Research Facility as ...</td>\n",
       "      <td>Return to the Black Mesa Research Facility as ...</td>\n",
       "    </tr>\n",
       "  </tbody>\n",
       "</table>\n",
       "</div>"
      ],
      "text/plain": [
       "   steam_appid                               detailed_description  \\\n",
       "0           10  Play the world's number 1 online action game. ...   \n",
       "1           20  One of the most popular online action games of...   \n",
       "2           30  Enlist in an intense brand of Axis vs. Allied ...   \n",
       "3           40  Enjoy fast-paced multiplayer gaming with Death...   \n",
       "4           50  Return to the Black Mesa Research Facility as ...   \n",
       "\n",
       "                                      about_the_game  \\\n",
       "0  Play the world's number 1 online action game. ...   \n",
       "1  One of the most popular online action games of...   \n",
       "2  Enlist in an intense brand of Axis vs. Allied ...   \n",
       "3  Enjoy fast-paced multiplayer gaming with Death...   \n",
       "4  Return to the Black Mesa Research Facility as ...   \n",
       "\n",
       "                                   short_description  \n",
       "0  Play the world's number 1 online action game. ...  \n",
       "1  One of the most popular online action games of...  \n",
       "2  Enlist in an intense brand of Axis vs. Allied ...  \n",
       "3  Enjoy fast-paced multiplayer gaming with Death...  \n",
       "4  Return to the Black Mesa Research Facility as ...  "
      ]
     },
     "execution_count": 4,
     "metadata": {},
     "output_type": "execute_result"
    }
   ],
   "source": [
    "desc_df.head()"
   ]
  },
  {
   "cell_type": "code",
   "execution_count": 5,
   "id": "oriental-union",
   "metadata": {},
   "outputs": [
    {
     "data": {
      "text/html": [
       "<div>\n",
       "<style scoped>\n",
       "    .dataframe tbody tr th:only-of-type {\n",
       "        vertical-align: middle;\n",
       "    }\n",
       "\n",
       "    .dataframe tbody tr th {\n",
       "        vertical-align: top;\n",
       "    }\n",
       "\n",
       "    .dataframe thead th {\n",
       "        text-align: right;\n",
       "    }\n",
       "</style>\n",
       "<table border=\"1\" class=\"dataframe\">\n",
       "  <thead>\n",
       "    <tr style=\"text-align: right;\">\n",
       "      <th></th>\n",
       "      <th>steam_appid</th>\n",
       "      <th>header_image</th>\n",
       "      <th>screenshots</th>\n",
       "      <th>background</th>\n",
       "      <th>movies</th>\n",
       "    </tr>\n",
       "  </thead>\n",
       "  <tbody>\n",
       "    <tr>\n",
       "      <th>0</th>\n",
       "      <td>10</td>\n",
       "      <td>https://steamcdn-a.akamaihd.net/steam/apps/10/...</td>\n",
       "      <td>[{'id': 0, 'path_thumbnail': 'https://steamcdn...</td>\n",
       "      <td>https://steamcdn-a.akamaihd.net/steam/apps/10/...</td>\n",
       "      <td>NaN</td>\n",
       "    </tr>\n",
       "    <tr>\n",
       "      <th>1</th>\n",
       "      <td>20</td>\n",
       "      <td>https://steamcdn-a.akamaihd.net/steam/apps/20/...</td>\n",
       "      <td>[{'id': 0, 'path_thumbnail': 'https://steamcdn...</td>\n",
       "      <td>https://steamcdn-a.akamaihd.net/steam/apps/20/...</td>\n",
       "      <td>NaN</td>\n",
       "    </tr>\n",
       "    <tr>\n",
       "      <th>2</th>\n",
       "      <td>30</td>\n",
       "      <td>https://steamcdn-a.akamaihd.net/steam/apps/30/...</td>\n",
       "      <td>[{'id': 0, 'path_thumbnail': 'https://steamcdn...</td>\n",
       "      <td>https://steamcdn-a.akamaihd.net/steam/apps/30/...</td>\n",
       "      <td>NaN</td>\n",
       "    </tr>\n",
       "    <tr>\n",
       "      <th>3</th>\n",
       "      <td>40</td>\n",
       "      <td>https://steamcdn-a.akamaihd.net/steam/apps/40/...</td>\n",
       "      <td>[{'id': 0, 'path_thumbnail': 'https://steamcdn...</td>\n",
       "      <td>https://steamcdn-a.akamaihd.net/steam/apps/40/...</td>\n",
       "      <td>NaN</td>\n",
       "    </tr>\n",
       "    <tr>\n",
       "      <th>4</th>\n",
       "      <td>50</td>\n",
       "      <td>https://steamcdn-a.akamaihd.net/steam/apps/50/...</td>\n",
       "      <td>[{'id': 0, 'path_thumbnail': 'https://steamcdn...</td>\n",
       "      <td>https://steamcdn-a.akamaihd.net/steam/apps/50/...</td>\n",
       "      <td>NaN</td>\n",
       "    </tr>\n",
       "  </tbody>\n",
       "</table>\n",
       "</div>"
      ],
      "text/plain": [
       "   steam_appid                                       header_image  \\\n",
       "0           10  https://steamcdn-a.akamaihd.net/steam/apps/10/...   \n",
       "1           20  https://steamcdn-a.akamaihd.net/steam/apps/20/...   \n",
       "2           30  https://steamcdn-a.akamaihd.net/steam/apps/30/...   \n",
       "3           40  https://steamcdn-a.akamaihd.net/steam/apps/40/...   \n",
       "4           50  https://steamcdn-a.akamaihd.net/steam/apps/50/...   \n",
       "\n",
       "                                         screenshots  \\\n",
       "0  [{'id': 0, 'path_thumbnail': 'https://steamcdn...   \n",
       "1  [{'id': 0, 'path_thumbnail': 'https://steamcdn...   \n",
       "2  [{'id': 0, 'path_thumbnail': 'https://steamcdn...   \n",
       "3  [{'id': 0, 'path_thumbnail': 'https://steamcdn...   \n",
       "4  [{'id': 0, 'path_thumbnail': 'https://steamcdn...   \n",
       "\n",
       "                                          background movies  \n",
       "0  https://steamcdn-a.akamaihd.net/steam/apps/10/...    NaN  \n",
       "1  https://steamcdn-a.akamaihd.net/steam/apps/20/...    NaN  \n",
       "2  https://steamcdn-a.akamaihd.net/steam/apps/30/...    NaN  \n",
       "3  https://steamcdn-a.akamaihd.net/steam/apps/40/...    NaN  \n",
       "4  https://steamcdn-a.akamaihd.net/steam/apps/50/...    NaN  "
      ]
     },
     "execution_count": 5,
     "metadata": {},
     "output_type": "execute_result"
    }
   ],
   "source": [
    "media_df.head()"
   ]
  },
  {
   "cell_type": "markdown",
   "id": "promotional-content",
   "metadata": {},
   "source": [
    "Each csv uses the appid column so we can merge all csvs into one."
   ]
  },
  {
   "cell_type": "code",
   "execution_count": 6,
   "id": "collectible-method",
   "metadata": {},
   "outputs": [],
   "source": [
    "merged_df = main_df.merge(desc_df, left_on=\"appid\", right_on=\"steam_appid\")"
   ]
  },
  {
   "cell_type": "code",
   "execution_count": 7,
   "id": "familiar-pixel",
   "metadata": {},
   "outputs": [],
   "source": [
    "merged_df = merged_df.merge(media_df, left_on=\"appid\", right_on=\"steam_appid\")"
   ]
  },
  {
   "cell_type": "code",
   "execution_count": 8,
   "id": "intermediate-rogers",
   "metadata": {},
   "outputs": [
    {
     "name": "stdout",
     "output_type": "stream",
     "text": [
      "Index(['appid', 'name', 'release_date', 'english', 'developer', 'publisher',\n",
      "       'platforms', 'required_age', 'categories', 'genres', 'steamspy_tags',\n",
      "       'achievements', 'positive_ratings', 'negative_ratings',\n",
      "       'average_playtime', 'median_playtime', 'owners', 'price',\n",
      "       'steam_appid_x', 'detailed_description', 'about_the_game',\n",
      "       'short_description', 'steam_appid_y', 'header_image', 'screenshots',\n",
      "       'background', 'movies'],\n",
      "      dtype='object')\n"
     ]
    },
    {
     "data": {
      "text/html": [
       "<div>\n",
       "<style scoped>\n",
       "    .dataframe tbody tr th:only-of-type {\n",
       "        vertical-align: middle;\n",
       "    }\n",
       "\n",
       "    .dataframe tbody tr th {\n",
       "        vertical-align: top;\n",
       "    }\n",
       "\n",
       "    .dataframe thead th {\n",
       "        text-align: right;\n",
       "    }\n",
       "</style>\n",
       "<table border=\"1\" class=\"dataframe\">\n",
       "  <thead>\n",
       "    <tr style=\"text-align: right;\">\n",
       "      <th></th>\n",
       "      <th>appid</th>\n",
       "      <th>name</th>\n",
       "      <th>release_date</th>\n",
       "      <th>english</th>\n",
       "      <th>developer</th>\n",
       "      <th>publisher</th>\n",
       "      <th>platforms</th>\n",
       "      <th>required_age</th>\n",
       "      <th>categories</th>\n",
       "      <th>genres</th>\n",
       "      <th>...</th>\n",
       "      <th>price</th>\n",
       "      <th>steam_appid_x</th>\n",
       "      <th>detailed_description</th>\n",
       "      <th>about_the_game</th>\n",
       "      <th>short_description</th>\n",
       "      <th>steam_appid_y</th>\n",
       "      <th>header_image</th>\n",
       "      <th>screenshots</th>\n",
       "      <th>background</th>\n",
       "      <th>movies</th>\n",
       "    </tr>\n",
       "  </thead>\n",
       "  <tbody>\n",
       "    <tr>\n",
       "      <th>0</th>\n",
       "      <td>10</td>\n",
       "      <td>Counter-Strike</td>\n",
       "      <td>2000-11-01</td>\n",
       "      <td>1</td>\n",
       "      <td>Valve</td>\n",
       "      <td>Valve</td>\n",
       "      <td>windows;mac;linux</td>\n",
       "      <td>0</td>\n",
       "      <td>Multi-player;Online Multi-Player;Local Multi-P...</td>\n",
       "      <td>Action</td>\n",
       "      <td>...</td>\n",
       "      <td>7.19</td>\n",
       "      <td>10</td>\n",
       "      <td>Play the world's number 1 online action game. ...</td>\n",
       "      <td>Play the world's number 1 online action game. ...</td>\n",
       "      <td>Play the world's number 1 online action game. ...</td>\n",
       "      <td>10</td>\n",
       "      <td>https://steamcdn-a.akamaihd.net/steam/apps/10/...</td>\n",
       "      <td>[{'id': 0, 'path_thumbnail': 'https://steamcdn...</td>\n",
       "      <td>https://steamcdn-a.akamaihd.net/steam/apps/10/...</td>\n",
       "      <td>NaN</td>\n",
       "    </tr>\n",
       "    <tr>\n",
       "      <th>1</th>\n",
       "      <td>20</td>\n",
       "      <td>Team Fortress Classic</td>\n",
       "      <td>1999-04-01</td>\n",
       "      <td>1</td>\n",
       "      <td>Valve</td>\n",
       "      <td>Valve</td>\n",
       "      <td>windows;mac;linux</td>\n",
       "      <td>0</td>\n",
       "      <td>Multi-player;Online Multi-Player;Local Multi-P...</td>\n",
       "      <td>Action</td>\n",
       "      <td>...</td>\n",
       "      <td>3.99</td>\n",
       "      <td>20</td>\n",
       "      <td>One of the most popular online action games of...</td>\n",
       "      <td>One of the most popular online action games of...</td>\n",
       "      <td>One of the most popular online action games of...</td>\n",
       "      <td>20</td>\n",
       "      <td>https://steamcdn-a.akamaihd.net/steam/apps/20/...</td>\n",
       "      <td>[{'id': 0, 'path_thumbnail': 'https://steamcdn...</td>\n",
       "      <td>https://steamcdn-a.akamaihd.net/steam/apps/20/...</td>\n",
       "      <td>NaN</td>\n",
       "    </tr>\n",
       "    <tr>\n",
       "      <th>2</th>\n",
       "      <td>30</td>\n",
       "      <td>Day of Defeat</td>\n",
       "      <td>2003-05-01</td>\n",
       "      <td>1</td>\n",
       "      <td>Valve</td>\n",
       "      <td>Valve</td>\n",
       "      <td>windows;mac;linux</td>\n",
       "      <td>0</td>\n",
       "      <td>Multi-player;Valve Anti-Cheat enabled</td>\n",
       "      <td>Action</td>\n",
       "      <td>...</td>\n",
       "      <td>3.99</td>\n",
       "      <td>30</td>\n",
       "      <td>Enlist in an intense brand of Axis vs. Allied ...</td>\n",
       "      <td>Enlist in an intense brand of Axis vs. Allied ...</td>\n",
       "      <td>Enlist in an intense brand of Axis vs. Allied ...</td>\n",
       "      <td>30</td>\n",
       "      <td>https://steamcdn-a.akamaihd.net/steam/apps/30/...</td>\n",
       "      <td>[{'id': 0, 'path_thumbnail': 'https://steamcdn...</td>\n",
       "      <td>https://steamcdn-a.akamaihd.net/steam/apps/30/...</td>\n",
       "      <td>NaN</td>\n",
       "    </tr>\n",
       "    <tr>\n",
       "      <th>3</th>\n",
       "      <td>40</td>\n",
       "      <td>Deathmatch Classic</td>\n",
       "      <td>2001-06-01</td>\n",
       "      <td>1</td>\n",
       "      <td>Valve</td>\n",
       "      <td>Valve</td>\n",
       "      <td>windows;mac;linux</td>\n",
       "      <td>0</td>\n",
       "      <td>Multi-player;Online Multi-Player;Local Multi-P...</td>\n",
       "      <td>Action</td>\n",
       "      <td>...</td>\n",
       "      <td>3.99</td>\n",
       "      <td>40</td>\n",
       "      <td>Enjoy fast-paced multiplayer gaming with Death...</td>\n",
       "      <td>Enjoy fast-paced multiplayer gaming with Death...</td>\n",
       "      <td>Enjoy fast-paced multiplayer gaming with Death...</td>\n",
       "      <td>40</td>\n",
       "      <td>https://steamcdn-a.akamaihd.net/steam/apps/40/...</td>\n",
       "      <td>[{'id': 0, 'path_thumbnail': 'https://steamcdn...</td>\n",
       "      <td>https://steamcdn-a.akamaihd.net/steam/apps/40/...</td>\n",
       "      <td>NaN</td>\n",
       "    </tr>\n",
       "    <tr>\n",
       "      <th>4</th>\n",
       "      <td>50</td>\n",
       "      <td>Half-Life: Opposing Force</td>\n",
       "      <td>1999-11-01</td>\n",
       "      <td>1</td>\n",
       "      <td>Gearbox Software</td>\n",
       "      <td>Valve</td>\n",
       "      <td>windows;mac;linux</td>\n",
       "      <td>0</td>\n",
       "      <td>Single-player;Multi-player;Valve Anti-Cheat en...</td>\n",
       "      <td>Action</td>\n",
       "      <td>...</td>\n",
       "      <td>3.99</td>\n",
       "      <td>50</td>\n",
       "      <td>Return to the Black Mesa Research Facility as ...</td>\n",
       "      <td>Return to the Black Mesa Research Facility as ...</td>\n",
       "      <td>Return to the Black Mesa Research Facility as ...</td>\n",
       "      <td>50</td>\n",
       "      <td>https://steamcdn-a.akamaihd.net/steam/apps/50/...</td>\n",
       "      <td>[{'id': 0, 'path_thumbnail': 'https://steamcdn...</td>\n",
       "      <td>https://steamcdn-a.akamaihd.net/steam/apps/50/...</td>\n",
       "      <td>NaN</td>\n",
       "    </tr>\n",
       "  </tbody>\n",
       "</table>\n",
       "<p>5 rows × 27 columns</p>\n",
       "</div>"
      ],
      "text/plain": [
       "   appid                       name release_date  english         developer  \\\n",
       "0     10             Counter-Strike   2000-11-01        1             Valve   \n",
       "1     20      Team Fortress Classic   1999-04-01        1             Valve   \n",
       "2     30              Day of Defeat   2003-05-01        1             Valve   \n",
       "3     40         Deathmatch Classic   2001-06-01        1             Valve   \n",
       "4     50  Half-Life: Opposing Force   1999-11-01        1  Gearbox Software   \n",
       "\n",
       "  publisher          platforms  required_age  \\\n",
       "0     Valve  windows;mac;linux             0   \n",
       "1     Valve  windows;mac;linux             0   \n",
       "2     Valve  windows;mac;linux             0   \n",
       "3     Valve  windows;mac;linux             0   \n",
       "4     Valve  windows;mac;linux             0   \n",
       "\n",
       "                                          categories  genres  ... price  \\\n",
       "0  Multi-player;Online Multi-Player;Local Multi-P...  Action  ...  7.19   \n",
       "1  Multi-player;Online Multi-Player;Local Multi-P...  Action  ...  3.99   \n",
       "2              Multi-player;Valve Anti-Cheat enabled  Action  ...  3.99   \n",
       "3  Multi-player;Online Multi-Player;Local Multi-P...  Action  ...  3.99   \n",
       "4  Single-player;Multi-player;Valve Anti-Cheat en...  Action  ...  3.99   \n",
       "\n",
       "   steam_appid_x                               detailed_description  \\\n",
       "0             10  Play the world's number 1 online action game. ...   \n",
       "1             20  One of the most popular online action games of...   \n",
       "2             30  Enlist in an intense brand of Axis vs. Allied ...   \n",
       "3             40  Enjoy fast-paced multiplayer gaming with Death...   \n",
       "4             50  Return to the Black Mesa Research Facility as ...   \n",
       "\n",
       "                                      about_the_game  \\\n",
       "0  Play the world's number 1 online action game. ...   \n",
       "1  One of the most popular online action games of...   \n",
       "2  Enlist in an intense brand of Axis vs. Allied ...   \n",
       "3  Enjoy fast-paced multiplayer gaming with Death...   \n",
       "4  Return to the Black Mesa Research Facility as ...   \n",
       "\n",
       "                                   short_description  steam_appid_y  \\\n",
       "0  Play the world's number 1 online action game. ...             10   \n",
       "1  One of the most popular online action games of...             20   \n",
       "2  Enlist in an intense brand of Axis vs. Allied ...             30   \n",
       "3  Enjoy fast-paced multiplayer gaming with Death...             40   \n",
       "4  Return to the Black Mesa Research Facility as ...             50   \n",
       "\n",
       "                                        header_image  \\\n",
       "0  https://steamcdn-a.akamaihd.net/steam/apps/10/...   \n",
       "1  https://steamcdn-a.akamaihd.net/steam/apps/20/...   \n",
       "2  https://steamcdn-a.akamaihd.net/steam/apps/30/...   \n",
       "3  https://steamcdn-a.akamaihd.net/steam/apps/40/...   \n",
       "4  https://steamcdn-a.akamaihd.net/steam/apps/50/...   \n",
       "\n",
       "                                         screenshots  \\\n",
       "0  [{'id': 0, 'path_thumbnail': 'https://steamcdn...   \n",
       "1  [{'id': 0, 'path_thumbnail': 'https://steamcdn...   \n",
       "2  [{'id': 0, 'path_thumbnail': 'https://steamcdn...   \n",
       "3  [{'id': 0, 'path_thumbnail': 'https://steamcdn...   \n",
       "4  [{'id': 0, 'path_thumbnail': 'https://steamcdn...   \n",
       "\n",
       "                                          background movies  \n",
       "0  https://steamcdn-a.akamaihd.net/steam/apps/10/...    NaN  \n",
       "1  https://steamcdn-a.akamaihd.net/steam/apps/20/...    NaN  \n",
       "2  https://steamcdn-a.akamaihd.net/steam/apps/30/...    NaN  \n",
       "3  https://steamcdn-a.akamaihd.net/steam/apps/40/...    NaN  \n",
       "4  https://steamcdn-a.akamaihd.net/steam/apps/50/...    NaN  \n",
       "\n",
       "[5 rows x 27 columns]"
      ]
     },
     "execution_count": 8,
     "metadata": {},
     "output_type": "execute_result"
    }
   ],
   "source": [
    "print(merged_df.columns)\n",
    "merged_df.head()"
   ]
  },
  {
   "cell_type": "markdown",
   "id": "opposed-pixel",
   "metadata": {},
   "source": [
    "We can drop the columns several columns from this new merged df."
   ]
  },
  {
   "cell_type": "code",
   "execution_count": 9,
   "id": "academic-marking",
   "metadata": {},
   "outputs": [],
   "source": [
    "merged_df.drop(\n",
    "    columns=[\n",
    "        \"steam_appid_x\", \n",
    "        \"steam_appid_y\", \n",
    "        \"background\", \n",
    "        \"platforms\", \n",
    "        \"required_age\", \n",
    "        \"release_date\", \n",
    "        \"positive_ratings\", \n",
    "        \"negative_ratings\", \n",
<<<<<<< HEAD
    "        \"background\", \n",
    "        \"median_playtime\", \n",
    "        \"movies\", \n",
=======
    "        \"screenshots\", \n",
    "        \"background\", \n",
    "        \"median_playtime\", \n",
    "        \"movies\", \n",
    "        \"screenshots\", \n",
>>>>>>> 83b21f8ce536d7c2c2f3c14092bf92e52814e8d0
    "        \"about_the_game\", \n",
    "        \"short_description\",\n",
    "        \"price\",\n",
    "        \"owners\",\n",
<<<<<<< HEAD
=======
    "        \"categories\",\n",
>>>>>>> 83b21f8ce536d7c2c2f3c14092bf92e52814e8d0
    "        \"steamspy_tags\",\n",
    "        \"achievements\",\n",
    "        \"average_playtime\",\n",
    "        \"english\"], \n",
    "    inplace=True)"
   ]
  },
  {
   "cell_type": "code",
   "execution_count": 10,
   "id": "annoying-castle",
   "metadata": {},
   "outputs": [
    {
     "data": {
      "text/html": [
       "<div>\n",
       "<style scoped>\n",
       "    .dataframe tbody tr th:only-of-type {\n",
       "        vertical-align: middle;\n",
       "    }\n",
       "\n",
       "    .dataframe tbody tr th {\n",
       "        vertical-align: top;\n",
       "    }\n",
       "\n",
       "    .dataframe thead th {\n",
       "        text-align: right;\n",
       "    }\n",
       "</style>\n",
       "<table border=\"1\" class=\"dataframe\">\n",
       "  <thead>\n",
       "    <tr style=\"text-align: right;\">\n",
       "      <th></th>\n",
       "      <th>appid</th>\n",
       "      <th>name</th>\n",
       "      <th>developer</th>\n",
       "      <th>publisher</th>\n",
<<<<<<< HEAD
       "      <th>categories</th>\n",
       "      <th>genres</th>\n",
       "      <th>detailed_description</th>\n",
       "      <th>header_image</th>\n",
       "      <th>screenshots</th>\n",
=======
       "      <th>genres</th>\n",
       "      <th>detailed_description</th>\n",
       "      <th>header_image</th>\n",
>>>>>>> 83b21f8ce536d7c2c2f3c14092bf92e52814e8d0
       "    </tr>\n",
       "  </thead>\n",
       "  <tbody>\n",
       "    <tr>\n",
       "      <th>0</th>\n",
       "      <td>10</td>\n",
       "      <td>Counter-Strike</td>\n",
       "      <td>Valve</td>\n",
       "      <td>Valve</td>\n",
<<<<<<< HEAD
       "      <td>Multi-player;Online Multi-Player;Local Multi-P...</td>\n",
       "      <td>Action</td>\n",
       "      <td>Play the world's number 1 online action game. ...</td>\n",
       "      <td>https://steamcdn-a.akamaihd.net/steam/apps/10/...</td>\n",
       "      <td>[{'id': 0, 'path_thumbnail': 'https://steamcdn...</td>\n",
=======
       "      <td>Action</td>\n",
       "      <td>Play the world's number 1 online action game. ...</td>\n",
       "      <td>https://steamcdn-a.akamaihd.net/steam/apps/10/...</td>\n",
>>>>>>> 83b21f8ce536d7c2c2f3c14092bf92e52814e8d0
       "    </tr>\n",
       "    <tr>\n",
       "      <th>1</th>\n",
       "      <td>20</td>\n",
       "      <td>Team Fortress Classic</td>\n",
       "      <td>Valve</td>\n",
       "      <td>Valve</td>\n",
<<<<<<< HEAD
       "      <td>Multi-player;Online Multi-Player;Local Multi-P...</td>\n",
       "      <td>Action</td>\n",
       "      <td>One of the most popular online action games of...</td>\n",
       "      <td>https://steamcdn-a.akamaihd.net/steam/apps/20/...</td>\n",
       "      <td>[{'id': 0, 'path_thumbnail': 'https://steamcdn...</td>\n",
=======
       "      <td>Action</td>\n",
       "      <td>One of the most popular online action games of...</td>\n",
       "      <td>https://steamcdn-a.akamaihd.net/steam/apps/20/...</td>\n",
>>>>>>> 83b21f8ce536d7c2c2f3c14092bf92e52814e8d0
       "    </tr>\n",
       "    <tr>\n",
       "      <th>2</th>\n",
       "      <td>30</td>\n",
       "      <td>Day of Defeat</td>\n",
       "      <td>Valve</td>\n",
       "      <td>Valve</td>\n",
<<<<<<< HEAD
       "      <td>Multi-player;Valve Anti-Cheat enabled</td>\n",
       "      <td>Action</td>\n",
       "      <td>Enlist in an intense brand of Axis vs. Allied ...</td>\n",
       "      <td>https://steamcdn-a.akamaihd.net/steam/apps/30/...</td>\n",
       "      <td>[{'id': 0, 'path_thumbnail': 'https://steamcdn...</td>\n",
=======
       "      <td>Action</td>\n",
       "      <td>Enlist in an intense brand of Axis vs. Allied ...</td>\n",
       "      <td>https://steamcdn-a.akamaihd.net/steam/apps/30/...</td>\n",
>>>>>>> 83b21f8ce536d7c2c2f3c14092bf92e52814e8d0
       "    </tr>\n",
       "    <tr>\n",
       "      <th>3</th>\n",
       "      <td>40</td>\n",
       "      <td>Deathmatch Classic</td>\n",
       "      <td>Valve</td>\n",
       "      <td>Valve</td>\n",
<<<<<<< HEAD
       "      <td>Multi-player;Online Multi-Player;Local Multi-P...</td>\n",
       "      <td>Action</td>\n",
       "      <td>Enjoy fast-paced multiplayer gaming with Death...</td>\n",
       "      <td>https://steamcdn-a.akamaihd.net/steam/apps/40/...</td>\n",
       "      <td>[{'id': 0, 'path_thumbnail': 'https://steamcdn...</td>\n",
=======
       "      <td>Action</td>\n",
       "      <td>Enjoy fast-paced multiplayer gaming with Death...</td>\n",
       "      <td>https://steamcdn-a.akamaihd.net/steam/apps/40/...</td>\n",
>>>>>>> 83b21f8ce536d7c2c2f3c14092bf92e52814e8d0
       "    </tr>\n",
       "    <tr>\n",
       "      <th>4</th>\n",
       "      <td>50</td>\n",
       "      <td>Half-Life: Opposing Force</td>\n",
       "      <td>Gearbox Software</td>\n",
       "      <td>Valve</td>\n",
<<<<<<< HEAD
       "      <td>Single-player;Multi-player;Valve Anti-Cheat en...</td>\n",
       "      <td>Action</td>\n",
       "      <td>Return to the Black Mesa Research Facility as ...</td>\n",
       "      <td>https://steamcdn-a.akamaihd.net/steam/apps/50/...</td>\n",
       "      <td>[{'id': 0, 'path_thumbnail': 'https://steamcdn...</td>\n",
=======
       "      <td>Action</td>\n",
       "      <td>Return to the Black Mesa Research Facility as ...</td>\n",
       "      <td>https://steamcdn-a.akamaihd.net/steam/apps/50/...</td>\n",
>>>>>>> 83b21f8ce536d7c2c2f3c14092bf92e52814e8d0
       "    </tr>\n",
       "  </tbody>\n",
       "</table>\n",
       "</div>"
      ],
      "text/plain": [
<<<<<<< HEAD
       "   appid                       name         developer publisher  \\\n",
       "0     10             Counter-Strike             Valve     Valve   \n",
       "1     20      Team Fortress Classic             Valve     Valve   \n",
       "2     30              Day of Defeat             Valve     Valve   \n",
       "3     40         Deathmatch Classic             Valve     Valve   \n",
       "4     50  Half-Life: Opposing Force  Gearbox Software     Valve   \n",
       "\n",
       "                                          categories  genres  \\\n",
       "0  Multi-player;Online Multi-Player;Local Multi-P...  Action   \n",
       "1  Multi-player;Online Multi-Player;Local Multi-P...  Action   \n",
       "2              Multi-player;Valve Anti-Cheat enabled  Action   \n",
       "3  Multi-player;Online Multi-Player;Local Multi-P...  Action   \n",
       "4  Single-player;Multi-player;Valve Anti-Cheat en...  Action   \n",
=======
       "   appid                       name         developer publisher  genres  \\\n",
       "0     10             Counter-Strike             Valve     Valve  Action   \n",
       "1     20      Team Fortress Classic             Valve     Valve  Action   \n",
       "2     30              Day of Defeat             Valve     Valve  Action   \n",
       "3     40         Deathmatch Classic             Valve     Valve  Action   \n",
       "4     50  Half-Life: Opposing Force  Gearbox Software     Valve  Action   \n",
>>>>>>> 83b21f8ce536d7c2c2f3c14092bf92e52814e8d0
       "\n",
       "                                detailed_description  \\\n",
       "0  Play the world's number 1 online action game. ...   \n",
       "1  One of the most popular online action games of...   \n",
       "2  Enlist in an intense brand of Axis vs. Allied ...   \n",
       "3  Enjoy fast-paced multiplayer gaming with Death...   \n",
       "4  Return to the Black Mesa Research Facility as ...   \n",
       "\n",
<<<<<<< HEAD
       "                                        header_image  \\\n",
       "0  https://steamcdn-a.akamaihd.net/steam/apps/10/...   \n",
       "1  https://steamcdn-a.akamaihd.net/steam/apps/20/...   \n",
       "2  https://steamcdn-a.akamaihd.net/steam/apps/30/...   \n",
       "3  https://steamcdn-a.akamaihd.net/steam/apps/40/...   \n",
       "4  https://steamcdn-a.akamaihd.net/steam/apps/50/...   \n",
       "\n",
       "                                         screenshots  \n",
       "0  [{'id': 0, 'path_thumbnail': 'https://steamcdn...  \n",
       "1  [{'id': 0, 'path_thumbnail': 'https://steamcdn...  \n",
       "2  [{'id': 0, 'path_thumbnail': 'https://steamcdn...  \n",
       "3  [{'id': 0, 'path_thumbnail': 'https://steamcdn...  \n",
       "4  [{'id': 0, 'path_thumbnail': 'https://steamcdn...  "
=======
       "                                        header_image  \n",
       "0  https://steamcdn-a.akamaihd.net/steam/apps/10/...  \n",
       "1  https://steamcdn-a.akamaihd.net/steam/apps/20/...  \n",
       "2  https://steamcdn-a.akamaihd.net/steam/apps/30/...  \n",
       "3  https://steamcdn-a.akamaihd.net/steam/apps/40/...  \n",
       "4  https://steamcdn-a.akamaihd.net/steam/apps/50/...  "
>>>>>>> 83b21f8ce536d7c2c2f3c14092bf92e52814e8d0
      ]
     },
     "execution_count": 10,
     "metadata": {},
     "output_type": "execute_result"
    }
   ],
   "source": [
    "merged_df.head()"
   ]
  },
  {
   "cell_type": "code",
   "execution_count": 11,
   "id": "figured-china",
   "metadata": {},
   "outputs": [],
   "source": [
    "# merged_df.to_csv(\"../data/datasetv1.csv\", index=False)"
   ]
  },
  {
   "cell_type": "markdown",
   "id": "tropical-catch",
   "metadata": {},
   "source": [
    "# Cleaning the Dataset"
   ]
  },
  {
   "cell_type": "code",
   "execution_count": 12,
<<<<<<< HEAD
   "id": "conscious-remove",
   "metadata": {},
   "outputs": [],
   "source": [
    "merged_df.rename(columns={\"detailed_description\": \"description\"}, inplace=True)"
   ]
  },
  {
   "cell_type": "markdown",
   "id": "better-theology",
   "metadata": {},
   "source": [
    "First I'm going to remove all HTML, new-lines, tabs, and extra spaces from the description column."
   ]
  },
  {
   "cell_type": "code",
   "execution_count": 13,
   "id": "proud-scope",
   "metadata": {},
   "outputs": [],
   "source": [
    "def clean_description(desc: str) -> str:\n",
    "    text = BeautifulSoup(desc).get_text()\n",
    "    text = \" \".join(text.split())\n",
    "    return text"
=======
   "id": "biblical-courage",
   "metadata": {},
   "outputs": [],
   "source": [
    "dataset = pd.read_csv(\"../data/datasetv1.csv\")"
   ]
  },
  {
   "cell_type": "code",
   "execution_count": 13,
   "id": "conscious-remove",
   "metadata": {},
   "outputs": [],
   "source": [
    "dataset.rename(columns={\"detailed_description\": \"description\"}, inplace=True)"
   ]
  },
  {
   "cell_type": "markdown",
   "id": "better-theology",
   "metadata": {},
   "source": [
    "First I'm going to remove all HTML, new-lines, tabs, and extra spaces from the description column."
>>>>>>> 83b21f8ce536d7c2c2f3c14092bf92e52814e8d0
   ]
  },
  {
   "cell_type": "code",
   "execution_count": 14,
<<<<<<< HEAD
   "id": "convinced-allocation",
   "metadata": {},
   "outputs": [],
   "source": [
    "merged_df.description = merged_df.description.apply(clean_description)"
=======
   "id": "under-logistics",
   "metadata": {
    "scrolled": false
   },
   "outputs": [],
   "source": [
    "for i, r in dataset.iterrows():\n",
    "    if \"<\" in r.description:\n",
    "        break"
>>>>>>> 83b21f8ce536d7c2c2f3c14092bf92e52814e8d0
   ]
  },
  {
   "cell_type": "code",
   "execution_count": 15,
<<<<<<< HEAD
   "id": "valuable-roads",
=======
   "id": "caroline-methodology",
>>>>>>> 83b21f8ce536d7c2c2f3c14092bf92e52814e8d0
   "metadata": {},
   "outputs": [
    {
     "data": {
      "text/plain": [
<<<<<<< HEAD
       "0        Play the world's number 1 online action game. ...\n",
       "1        One of the most popular online action games of...\n",
       "2        Enlist in an intense brand of Axis vs. Allied ...\n",
       "3        Enjoy fast-paced multiplayer gaming with Death...\n",
       "4        Return to the Black Mesa Research Facility as ...\n",
       "                               ...                        \n",
       "27070    This is my first indie game on Steam. I played...\n",
       "27071    Have you ever been so lonely that no one but y...\n",
       "27072    Super Star Blast is a space based game with ch...\n",
       "27073    Pursue a snow-white deer through an enchanted ...\n",
       "27074    A portal has opened and dark magic is pouring ...\n",
       "Name: description, Length: 27075, dtype: object"
=======
       "'1998. HALF-LIFE sends a shock through the game industry with its combination of pounding action and continuous, immersive storytelling. Valve\\'s debut title wins more than 50 game-of-the-year awards on its way to being named \"Best PC Game Ever\" by PC Gamer, and launches a franchise with more than eight million retail units sold worldwide.<br><br>\\r\\n\\t\\tNOW. By taking the suspense, challenge and visceral charge of the original, and adding startling new realism and responsiveness, Half-Life 2 opens the door to a world where the player\\'s presence affects everything around him, from the physical environment to the behaviors even the emotions of both friends and enemies.<br><br>\\r\\n\\t\\tThe player again picks up the crowbar of research scientist Gordon Freeman, who finds himself on an alien-infested Earth being picked to the bone, its resources depleted, its populace dwindling. Freeman is thrust into the unenviable role of rescuing the world from the wrong he unleashed back at Black Mesa. And a lot of people he cares about are counting on him.<br><br>\\r\\n\\t\\tThe intense, real-time gameplay of Half-Life 2 is made possible only by Source&reg;, Valve\\'s new proprietary engine technology. Source provides major enhancements in:<br><br>\\r\\n\\t\\t<ul>\\r\\n\\t\\t<li><span class=\"copyHead\">Characters:</span> Advanced facial animation system delivers the most sophisticated in-game characters ever seen. With 40 distinct facial \"muscles,\" human characters convey the full array of human emotion, and respond to the player with fluidity and intelligence.</li>\\r\\n\\t\\t<li><span class=\"copyHead\">Physics:</span> From pebbles to water to 2-ton trucks respond as expected, as they obey the laws of mass, friction, gravity, and buoyancy.</li>\\r\\n\\t\\t<li><span class=\"copyHead\">Graphics:</span> Source\\'s shader-based renderer, like the one used at Pixar to create movies such as Toy Story&reg; and Monster\\'s, Inc.&reg;, creates the most beautiful and realistic environments ever seen in a video game.</li>\\r\\n\\t\\t<li><span class=\"copyHead\">AI:</span> Neither friends nor enemies charge blindly into the fray. They can assess threats, navigate tricky terrain, and fashion weapons from whatever is at hand.</li>\\r\\n\\t\\t</ul>'"
>>>>>>> 83b21f8ce536d7c2c2f3c14092bf92e52814e8d0
      ]
     },
     "execution_count": 15,
     "metadata": {},
     "output_type": "execute_result"
    }
   ],
   "source": [
<<<<<<< HEAD
    "merged_df.description"
   ]
  },
  {
   "cell_type": "code",
   "execution_count": null,
   "id": "democratic-senator",
   "metadata": {},
   "outputs": [],
   "source": [
    "# merged_df.to_csv(\"../data/datasetv3.csv\", index=False)"
=======
    "r.description"
>>>>>>> 83b21f8ce536d7c2c2f3c14092bf92e52814e8d0
   ]
  },
  {
   "cell_type": "code",
<<<<<<< HEAD
   "execution_count": 18,
   "id": "solved-separation",
   "metadata": {},
   "outputs": [],
   "source": [
    "dataset = pd.read_csv(\"../data/datasetv3.csv\")"
=======
   "execution_count": 16,
   "id": "bulgarian-strengthening",
   "metadata": {},
   "outputs": [],
   "source": [
    "text = BeautifulSoup(r.description).get_text()"
>>>>>>> 83b21f8ce536d7c2c2f3c14092bf92e52814e8d0
   ]
  },
  {
   "cell_type": "code",
<<<<<<< HEAD
   "execution_count": 28,
   "id": "pointed-melissa",
   "metadata": {},
   "outputs": [],
   "source": [
    "genres = set()"
=======
   "execution_count": 17,
   "id": "gentle-blackberry",
   "metadata": {},
   "outputs": [],
   "source": [
    "text = \" \".join(text.split())"
>>>>>>> 83b21f8ce536d7c2c2f3c14092bf92e52814e8d0
   ]
  },
  {
   "cell_type": "code",
<<<<<<< HEAD
   "execution_count": 29,
   "id": "loving-transaction",
   "metadata": {},
   "outputs": [],
   "source": [
    "for u in dataset.genres.unique():\n",
    "    genre_list = u.split(\";\")\n",
    "    for genre in genre_list:\n",
    "        genres.add(genre)"
   ]
  },
  {
   "cell_type": "code",
   "execution_count": 30,
   "id": "banner-egypt",
   "metadata": {
    "scrolled": true
   },
=======
   "execution_count": 18,
   "id": "collaborative-dating",
   "metadata": {},
>>>>>>> 83b21f8ce536d7c2c2f3c14092bf92e52814e8d0
   "outputs": [
    {
     "data": {
      "text/plain": [
<<<<<<< HEAD
       "{'Accounting',\n",
       " 'Action',\n",
       " 'Adventure',\n",
       " 'Animation & Modeling',\n",
       " 'Audio Production',\n",
       " 'Casual',\n",
       " 'Design & Illustration',\n",
       " 'Documentary',\n",
       " 'Early Access',\n",
       " 'Education',\n",
       " 'Free to Play',\n",
       " 'Game Development',\n",
       " 'Gore',\n",
       " 'Indie',\n",
       " 'Massively Multiplayer',\n",
       " 'Nudity',\n",
       " 'Photo Editing',\n",
       " 'RPG',\n",
       " 'Racing',\n",
       " 'Sexual Content',\n",
       " 'Simulation',\n",
       " 'Software Training',\n",
       " 'Sports',\n",
       " 'Strategy',\n",
       " 'Tutorial',\n",
       " 'Utilities',\n",
       " 'Video Production',\n",
       " 'Violent',\n",
       " 'Web Publishing'}"
      ]
     },
     "execution_count": 30,
=======
       "'1998. HALF-LIFE sends a shock through the game industry with its combination of pounding action and continuous, immersive storytelling. Valve\\'s debut title wins more than 50 game-of-the-year awards on its way to being named \"Best PC Game Ever\" by PC Gamer, and launches a franchise with more than eight million retail units sold worldwide. NOW. By taking the suspense, challenge and visceral charge of the original, and adding startling new realism and responsiveness, Half-Life 2 opens the door to a world where the player\\'s presence affects everything around him, from the physical environment to the behaviors even the emotions of both friends and enemies. The player again picks up the crowbar of research scientist Gordon Freeman, who finds himself on an alien-infested Earth being picked to the bone, its resources depleted, its populace dwindling. Freeman is thrust into the unenviable role of rescuing the world from the wrong he unleashed back at Black Mesa. And a lot of people he cares about are counting on him. The intense, real-time gameplay of Half-Life 2 is made possible only by Source®, Valve\\'s new proprietary engine technology. Source provides major enhancements in: Characters: Advanced facial animation system delivers the most sophisticated in-game characters ever seen. With 40 distinct facial \"muscles,\" human characters convey the full array of human emotion, and respond to the player with fluidity and intelligence. Physics: From pebbles to water to 2-ton trucks respond as expected, as they obey the laws of mass, friction, gravity, and buoyancy. Graphics: Source\\'s shader-based renderer, like the one used at Pixar to create movies such as Toy Story® and Monster\\'s, Inc.®, creates the most beautiful and realistic environments ever seen in a video game. AI: Neither friends nor enemies charge blindly into the fray. They can assess threats, navigate tricky terrain, and fashion weapons from whatever is at hand.'"
      ]
     },
     "execution_count": 18,
>>>>>>> 83b21f8ce536d7c2c2f3c14092bf92e52814e8d0
     "metadata": {},
     "output_type": "execute_result"
    }
   ],
   "source": [
<<<<<<< HEAD
    "genres"
   ]
  },
  {
   "cell_type": "code",
   "execution_count": 41,
   "id": "caroline-diversity",
   "metadata": {},
   "outputs": [],
   "source": [
    "from collections import Counter"
=======
    "text"
   ]
  },
  {
   "cell_type": "markdown",
   "id": "warming-ballot",
   "metadata": {},
   "source": [
    "Now we can write a function to apply it to every row of data."
>>>>>>> 83b21f8ce536d7c2c2f3c14092bf92e52814e8d0
   ]
  },
  {
   "cell_type": "code",
<<<<<<< HEAD
   "execution_count": 42,
   "id": "lined-paper",
   "metadata": {},
   "outputs": [],
   "source": [
    "genre_counter = Counter()"
=======
   "execution_count": 19,
   "id": "proud-scope",
   "metadata": {},
   "outputs": [],
   "source": [
    "def clean_description(desc: str) -> str:\n",
    "    text = BeautifulSoup(desc).get_text()\n",
    "    text = \" \".join(text.split())\n",
    "    return text"
>>>>>>> 83b21f8ce536d7c2c2f3c14092bf92e52814e8d0
   ]
  },
  {
   "cell_type": "code",
<<<<<<< HEAD
   "execution_count": 43,
   "id": "vertical-publicity",
   "metadata": {},
   "outputs": [],
   "source": [
    "for g in dataset.genres:\n",
    "    genre_list = g.split(\";\")\n",
    "    for genre in genre_list:\n",
    "        genre_counter[genre] += 1"
=======
   "execution_count": 20,
   "id": "convinced-allocation",
   "metadata": {},
   "outputs": [],
   "source": [
    "dataset.description = dataset.description.apply(clean_description)"
>>>>>>> 83b21f8ce536d7c2c2f3c14092bf92e52814e8d0
   ]
  },
  {
   "cell_type": "code",
<<<<<<< HEAD
   "execution_count": 51,
   "id": "passing-mother",
   "metadata": {
    "scrolled": true
   },
=======
   "execution_count": 21,
   "id": "valuable-roads",
   "metadata": {},
>>>>>>> 83b21f8ce536d7c2c2f3c14092bf92e52814e8d0
   "outputs": [
    {
     "data": {
      "text/plain": [
<<<<<<< HEAD
       "[('Indie', 19421),\n",
       " ('Action', 11903),\n",
       " ('Casual', 10210),\n",
       " ('Adventure', 10032),\n",
       " ('Strategy', 5247),\n",
       " ('Simulation', 5194),\n",
       " ('RPG', 4311),\n",
       " ('Early Access', 2954),\n",
       " ('Free to Play', 1704),\n",
       " ('Sports', 1322),\n",
       " ('Racing', 1024),\n",
       " ('Violent', 843),\n",
       " ('Massively Multiplayer', 723),\n",
       " ('Gore', 537),\n",
       " ('Nudity', 266),\n",
       " ('Sexual Content', 245),\n",
       " ('Utilities', 146),\n",
       " ('Design & Illustration', 87),\n",
       " ('Animation & Modeling', 79),\n",
       " ('Education', 51),\n",
       " ('Video Production', 38),\n",
       " ('Software Training', 31),\n",
       " ('Audio Production', 29),\n",
       " ('Web Publishing', 28),\n",
       " ('Game Development', 17),\n",
       " ('Photo Editing', 12),\n",
       " ('Accounting', 6),\n",
       " ('Documentary', 1),\n",
       " ('Tutorial', 1)]"
      ]
     },
     "execution_count": 51,
=======
       "0        Play the world's number 1 online action game. ...\n",
       "1        One of the most popular online action games of...\n",
       "2        Enlist in an intense brand of Axis vs. Allied ...\n",
       "3        Enjoy fast-paced multiplayer gaming with Death...\n",
       "4        Return to the Black Mesa Research Facility as ...\n",
       "                               ...                        \n",
       "27070    This is my first indie game on Steam. I played...\n",
       "27071    Have you ever been so lonely that no one but y...\n",
       "27072    Super Star Blast is a space based game with ch...\n",
       "27073    Pursue a snow-white deer through an enchanted ...\n",
       "27074    A portal has opened and dark magic is pouring ...\n",
       "Name: description, Length: 27075, dtype: object"
      ]
     },
     "execution_count": 21,
>>>>>>> 83b21f8ce536d7c2c2f3c14092bf92e52814e8d0
     "metadata": {},
     "output_type": "execute_result"
    }
   ],
   "source": [
<<<<<<< HEAD
    "genre_counter.most_common()"
   ]
  },
  {
   "cell_type": "code",
   "execution_count": 66,
   "id": "removed-tiger",
   "metadata": {},
   "outputs": [],
   "source": [
    "drop_genres = [\n",
    "    \"Tutorial\",\n",
    "    \"Documentary\",\n",
    "    \"Accounting\",\n",
    "    \"Photo Editing\",\n",
    "    \"Game Development\",\n",
    "    \"Sexual Content\",\n",
    "    \"Software Training\",\n",
    "    \"Education\",\n",
    "    \"Web Publishing\",\n",
    "    \"Design & Illustration\",\n",
    "    \"Utilities\",\n",
    "    \"Nudity\",\n",
    "    \"Video Production\",\n",
    "    \"Animation & Modeling\",\n",
    "    \"Audio Production\"\n",
    "]"
   ]
  },
  {
   "cell_type": "code",
   "execution_count": 67,
   "id": "accredited-canberra",
   "metadata": {},
   "outputs": [],
   "source": [
    "dataset = dataset[~dataset.genres.apply(lambda genres: any(g in drop_genres for g in genres.split(\";\")))]"
   ]
  },
  {
   "cell_type": "code",
   "execution_count": 68,
   "id": "cathedral-conducting",
   "metadata": {},
   "outputs": [],
   "source": [
    "genre_counter = Counter()"
=======
    "dataset.description"
   ]
  },
  {
   "cell_type": "markdown",
   "id": "packed-salvation",
   "metadata": {},
   "source": [
    "As you can see, the genre category is plural. Just as a quick shortcut, I'm going to take the first genre from each value. I realize it's going to be a biased selection towards genres that come first alphabetically, but I'm okay with that."
   ]
  },
  {
   "cell_type": "markdown",
   "id": "chinese-skating",
   "metadata": {},
   "source": [
    "dataset.genres = dataset.genres.apply(lambda x: x.split(\";\")[0])"
   ]
  },
  {
   "cell_type": "markdown",
   "id": "innocent-platform",
   "metadata": {},
   "source": [
    "dataset"
>>>>>>> 83b21f8ce536d7c2c2f3c14092bf92e52814e8d0
   ]
  },
  {
   "cell_type": "code",
<<<<<<< HEAD
   "execution_count": 69,
   "id": "perceived-cemetery",
   "metadata": {},
   "outputs": [],
   "source": [
    "for g in dataset.genres:\n",
    "    genre_list = g.split(\";\")\n",
    "    for genre in genre_list:\n",
    "        genre_counter[genre] += 1"
=======
   "execution_count": 22,
   "id": "irish-christian",
   "metadata": {},
   "outputs": [],
   "source": [
    "dataset.to_csv(\"../data/datasetv2.csv\", index=False)"
   ]
  },
  {
   "cell_type": "markdown",
   "id": "waiting-stake",
   "metadata": {},
   "source": [
    "# Downloading the Header Images\n",
    "\n",
    "Next we need the header images to train our image generator."
>>>>>>> 83b21f8ce536d7c2c2f3c14092bf92e52814e8d0
   ]
  },
  {
   "cell_type": "code",
<<<<<<< HEAD
   "execution_count": 70,
   "id": "handmade-reconstruction",
=======
   "execution_count": 155,
   "id": "loose-logic",
>>>>>>> 83b21f8ce536d7c2c2f3c14092bf92e52814e8d0
   "metadata": {},
   "outputs": [
    {
     "data": {
      "text/plain": [
<<<<<<< HEAD
       "[('Indie', 19143),\n",
       " ('Action', 11794),\n",
       " ('Casual', 10022),\n",
       " ('Adventure', 9859),\n",
       " ('Strategy', 5217),\n",
       " ('Simulation', 5099),\n",
       " ('RPG', 4233),\n",
       " ('Early Access', 2883),\n",
       " ('Free to Play', 1669),\n",
       " ('Sports', 1319),\n",
       " ('Racing', 1020),\n",
       " ('Massively Multiplayer', 717),\n",
       " ('Violent', 708),\n",
       " ('Gore', 455)]"
      ]
     },
     "execution_count": 70,
=======
       "'https://steamcdn-a.akamaihd.net/steam/apps/10/header.jpg?t=1528733245'"
      ]
     },
     "execution_count": 155,
>>>>>>> 83b21f8ce536d7c2c2f3c14092bf92e52814e8d0
     "metadata": {},
     "output_type": "execute_result"
    }
   ],
   "source": [
<<<<<<< HEAD
    "genre_counter.most_common()"
   ]
  },
  {
   "cell_type": "code",
   "execution_count": 72,
   "id": "descending-georgia",
   "metadata": {},
   "outputs": [],
   "source": [
    "# dataset.to_csv(\"../data/datasetv4.csv\", index=False)"
=======
    "img_url = dataset.header_image[0]\n",
    "img_url"
>>>>>>> 83b21f8ce536d7c2c2f3c14092bf92e52814e8d0
   ]
  },
  {
   "cell_type": "code",
<<<<<<< HEAD
   "execution_count": 73,
   "id": "arabic-wrestling",
=======
   "execution_count": 156,
   "id": "corrected-grammar",
>>>>>>> 83b21f8ce536d7c2c2f3c14092bf92e52814e8d0
   "metadata": {},
   "outputs": [
    {
     "data": {
      "text/plain": [
<<<<<<< HEAD
       "Action                   11212\n",
       "Adventure                 5253\n",
       "Casual                    4359\n",
       "Indie                     2615\n",
       "Violent                    708\n",
       "Simulation                 628\n",
       "Strategy                   532\n",
       "RPG                        407\n",
       "Free to Play               391\n",
       "Racing                     197\n",
       "Sports                      83\n",
       "Gore                        81\n",
       "Massively Multiplayer       15\n",
       "Early Access                 9\n",
       "Name: genres, dtype: int64"
      ]
     },
     "execution_count": 73,
=======
       "<Response [200]>"
      ]
     },
     "execution_count": 156,
>>>>>>> 83b21f8ce536d7c2c2f3c14092bf92e52814e8d0
     "metadata": {},
     "output_type": "execute_result"
    }
   ],
   "source": [
<<<<<<< HEAD
    "dataset.genres.apply(lambda x: x.split(\";\")[0]).value_counts()"
=======
    "r = requests.get(img_url, stream=True)\n",
    "r"
   ]
  },
  {
   "cell_type": "code",
   "execution_count": 157,
   "id": "convinced-orchestra",
   "metadata": {},
   "outputs": [],
   "source": [
    "r.raw.decode_content = True\n",
    "    \n",
    "with open(\"temp.jpg\", 'wb') as f:\n",
    "    shutil.copyfileobj(r.raw, f)"
>>>>>>> 83b21f8ce536d7c2c2f3c14092bf92e52814e8d0
   ]
  }
 ],
 "metadata": {
  "kernelspec": {
   "display_name": "Python 3",
   "language": "python",
   "name": "python3"
  },
  "language_info": {
   "codemirror_mode": {
    "name": "ipython",
    "version": 3
   },
   "file_extension": ".py",
   "mimetype": "text/x-python",
   "name": "python",
   "nbconvert_exporter": "python",
   "pygments_lexer": "ipython3",
   "version": "3.9.2"
  },
  "varInspector": {
   "cols": {
    "lenName": 16,
    "lenType": 16,
    "lenVar": 40
   },
   "kernels_config": {
    "python": {
     "delete_cmd_postfix": "",
     "delete_cmd_prefix": "del ",
     "library": "var_list.py",
     "varRefreshCmd": "print(var_dic_list())"
    },
    "r": {
     "delete_cmd_postfix": ") ",
     "delete_cmd_prefix": "rm(",
     "library": "var_list.r",
     "varRefreshCmd": "cat(var_dic_list()) "
    }
   },
   "types_to_exclude": [
    "module",
    "function",
    "builtin_function_or_method",
    "instance",
    "_Feature"
   ],
   "window_display": false
  }
 },
 "nbformat": 4,
 "nbformat_minor": 5
}
